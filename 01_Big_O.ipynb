{
 "cells": [
  {
   "cell_type": "markdown",
   "id": "16476ea2-ae9d-413e-869e-2ecb009c3dfb",
   "metadata": {},
   "source": [
    "# Big O\n",
    "\n",
    "What is good code?\n",
    "1. Readable\n",
    "2. Scalable\n",
    "\n",
    "Big O is the method measuring the scalability of code."
   ]
  },
  {
   "cell_type": "markdown",
   "id": "650061fd-1312-4c3f-a7fd-c908ce302758",
   "metadata": {},
   "source": [
    "## Big O and Sacalbility\n",
    "\n",
    "![](https://cdn-media-1.freecodecamp.org/images/1*KfZYFUT2OKfjekJlCeYvuQ.jpeg)  \n",
    "image ref: [freecodecamp](https://www.freecodecamp.org/news/all-you-need-to-know-about-big-o-notation-to-crack-your-next-coding-interview-9d575e7eec4/)"
   ]
  },
  {
   "cell_type": "code",
   "execution_count": 1,
   "id": "4f2eeb17-0b53-4c6f-98a6-9898d9f23c85",
   "metadata": {},
   "outputs": [],
   "source": [
    "import time\n",
    "import numpy as np"
   ]
  },
  {
   "cell_type": "code",
   "execution_count": 2,
   "id": "4ee70490-1b05-43e5-b920-8609498a7d90",
   "metadata": {},
   "outputs": [
    {
     "data": {
      "text/plain": [
       "1679886839.661375"
      ]
     },
     "execution_count": 2,
     "metadata": {},
     "output_type": "execute_result"
    }
   ],
   "source": [
    "time.time()"
   ]
  },
  {
   "cell_type": "code",
   "execution_count": 3,
   "id": "1cc25aa5-640b-472b-b228-426162d8e10d",
   "metadata": {},
   "outputs": [],
   "source": [
    "nemo = ['nemo']\n",
    "everyone = ['dory', 'bruce', 'marin', 'nemo', 'gill', 'bloat', 'nigel', 'squirt']\n",
    "large = ['nemo']*100\n",
    "\n",
    "def findNemo(array):\n",
    "    t0 = time.time()\n",
    "    for i in range(len(array)):\n",
    "        if array[i] == 'nemo':\n",
    "            print('Found NEMO!')\n",
    "    t1 = time.time()\n",
    "    print(f'Call to find Nemo took: {t1 - t0} milliseconds')"
   ]
  },
  {
   "cell_type": "code",
   "execution_count": 4,
   "id": "f6c0419d-8854-4bb4-8c94-8b1ebc492548",
   "metadata": {},
   "outputs": [
    {
     "name": "stdout",
     "output_type": "stream",
     "text": [
      "Found NEMO!\n",
      "Call to find Nemo took: 0.0 milliseconds\n"
     ]
    }
   ],
   "source": [
    "findNemo(nemo)"
   ]
  },
  {
   "cell_type": "code",
   "execution_count": 5,
   "id": "17e9ddff-aa76-4999-a331-7ce838902f6b",
   "metadata": {},
   "outputs": [
    {
     "name": "stdout",
     "output_type": "stream",
     "text": [
      "Found NEMO!\n",
      "Call to find Nemo took: 0.000997781753540039 milliseconds\n"
     ]
    }
   ],
   "source": [
    "findNemo(everyone)"
   ]
  },
  {
   "cell_type": "markdown",
   "id": "ed8ca2aa-6918-4e5e-a348-85809b205130",
   "metadata": {},
   "source": [
    "## $O(n)$ - Linear Time"
   ]
  },
  {
   "cell_type": "code",
   "execution_count": 7,
   "id": "e27d0904-f1aa-49f9-afd4-52d2664a9f92",
   "metadata": {},
   "outputs": [
    {
     "name": "stdout",
     "output_type": "stream",
     "text": [
      "Found NEMO!\n",
      "Found NEMO!\n",
      "Found NEMO!\n",
      "Found NEMO!\n",
      "Found NEMO!\n",
      "Found NEMO!\n",
      "Found NEMO!\n",
      "Found NEMO!\n",
      "Found NEMO!\n",
      "Found NEMO!\n",
      "Found NEMO!\n",
      "Found NEMO!\n",
      "Found NEMO!\n",
      "Found NEMO!\n",
      "Found NEMO!\n",
      "Found NEMO!\n",
      "Found NEMO!\n",
      "Found NEMO!\n",
      "Found NEMO!\n",
      "Found NEMO!\n",
      "Found NEMO!\n",
      "Found NEMO!\n",
      "Found NEMO!\n",
      "Found NEMO!\n",
      "Found NEMO!\n",
      "Found NEMO!\n",
      "Found NEMO!\n",
      "Found NEMO!\n",
      "Found NEMO!\n",
      "Found NEMO!\n",
      "Found NEMO!\n",
      "Found NEMO!\n",
      "Found NEMO!\n",
      "Found NEMO!\n",
      "Found NEMO!\n",
      "Found NEMO!\n",
      "Found NEMO!\n",
      "Found NEMO!\n",
      "Found NEMO!\n",
      "Found NEMO!\n",
      "Found NEMO!\n",
      "Found NEMO!\n",
      "Found NEMO!\n",
      "Found NEMO!\n",
      "Found NEMO!\n",
      "Found NEMO!\n",
      "Found NEMO!\n",
      "Found NEMO!\n",
      "Found NEMO!\n",
      "Found NEMO!\n",
      "Found NEMO!\n",
      "Found NEMO!\n",
      "Found NEMO!\n",
      "Found NEMO!\n",
      "Found NEMO!\n",
      "Found NEMO!\n",
      "Found NEMO!\n",
      "Found NEMO!\n",
      "Found NEMO!\n",
      "Found NEMO!\n",
      "Found NEMO!\n",
      "Found NEMO!\n",
      "Found NEMO!\n",
      "Found NEMO!\n",
      "Found NEMO!\n",
      "Found NEMO!\n",
      "Found NEMO!\n",
      "Found NEMO!\n",
      "Found NEMO!\n",
      "Found NEMO!\n",
      "Found NEMO!\n",
      "Found NEMO!\n",
      "Found NEMO!\n",
      "Found NEMO!\n",
      "Found NEMO!\n",
      "Found NEMO!\n",
      "Found NEMO!\n",
      "Found NEMO!\n",
      "Found NEMO!\n",
      "Found NEMO!\n",
      "Found NEMO!\n",
      "Found NEMO!\n",
      "Found NEMO!\n",
      "Found NEMO!\n",
      "Found NEMO!\n",
      "Found NEMO!\n",
      "Found NEMO!\n",
      "Found NEMO!\n",
      "Found NEMO!\n",
      "Found NEMO!\n",
      "Found NEMO!\n",
      "Found NEMO!\n",
      "Found NEMO!\n",
      "Found NEMO!\n",
      "Found NEMO!\n",
      "Found NEMO!\n",
      "Found NEMO!\n",
      "Found NEMO!\n",
      "Found NEMO!\n",
      "Found NEMO!\n",
      "Call to find Nemo took: 0.0019960403442382812 milliseconds\n"
     ]
    }
   ],
   "source": [
    "findNemo(large) # O(n) --> Linear Time"
   ]
  },
  {
   "cell_type": "markdown",
   "id": "63c42438-818d-4b41-bc09-ec833b5572e3",
   "metadata": {},
   "source": [
    "## $O(1)$ - Constant Time"
   ]
  },
  {
   "cell_type": "code",
   "execution_count": 12,
   "id": "4f28e7e2-e42a-462d-a7d6-b5d514450d25",
   "metadata": {},
   "outputs": [],
   "source": [
    "boxes = [0,1,2,3,4,5]\n",
    "\n",
    "def printFirstTwoBoxes(boxes):\n",
    "    print(boxes[0]) # O(1)\n",
    "    print(boxes[1]) # O(1)"
   ]
  },
  {
   "cell_type": "code",
   "execution_count": 13,
   "id": "f5ca1853-900c-492f-b62f-a0ab5cd4e01e",
   "metadata": {},
   "outputs": [
    {
     "name": "stdout",
     "output_type": "stream",
     "text": [
      "0\n",
      "1\n"
     ]
    }
   ],
   "source": [
    "printFirstTwoBoxes(boxes) # O(2)"
   ]
  },
  {
   "cell_type": "markdown",
   "id": "0c0b8336-0d89-4624-ac19-2135c7294d5f",
   "metadata": {},
   "source": [
    "**Exercise 1**\n",
    "\n",
    "What is the Big O of the below function? (Hint, you may want to go line by line)\n",
    "\n",
    "```python\n",
    "def funChallenge(inputs):\n",
    "    a = 10\n",
    "    a = 50 + 3\n",
    "    \n",
    "    for i in range(len(inputs)):\n",
    "        anotherFunction()\n",
    "        stranger = True\n",
    "        a += 1\n",
    "    return a\n",
    "```\n",
    "\n",
    "\n",
    "**Answer 1**: $O(3 + n + n + n+ n) = O(4n +3) \\longrightarrow O(n)$\n",
    "\n",
    "```python\n",
    "def funChallenge(inputs):\n",
    "    a = 10 # O(1)\n",
    "    a = 50 + 3 # O(1)\n",
    "    \n",
    "    for i in range(len(inputs)): # O(n)\n",
    "        anotherFunction() # O(n)\n",
    "        stranger = True # O(n)\n",
    "        a += 1 # O(n)\n",
    "    return a # O(1)\n",
    "```\n",
    "---\n",
    "**Exercise 2**\n",
    "\n",
    "What is the Big O of the below function? (Hint, you may want to go line by line)\n",
    "```python\n",
    "def anotherFunChallenge(inputs):\n",
    "    a = 5\n",
    "    b = 10\n",
    "    c = 50\n",
    "    \n",
    "    for i in range(len(inputs)):\n",
    "        x = i + 1\n",
    "        y = i + 2\n",
    "        z = i + 3\n",
    "        \n",
    "        for j in range(len(inputs)):\n",
    "            p = j * 2\n",
    "            q = j * 2\n",
    "        whoAmI = \"I don't know\"\n",
    "```\n",
    "\n",
    "**Answer 2**: $O(1+1+1+1+n+n+n+n+n+n+n) = O(7n + 3) \\longrightarrow O(n)$\n",
    "```python\n",
    "def anotherFunChallenge(inputs):\n",
    "    a = 5 # O(1)\n",
    "    b = 10 # O(1)\n",
    "    c = 50 # O(1)\n",
    "    \n",
    "    for i in range(len(inputs)): # O(n)\n",
    "        x = i + 1 # O(n)\n",
    "        y = i + 2 # O(n)\n",
    "        z = i + 3 # O(n)\n",
    "        \n",
    "    for j in range(len(inputs)): # O(n)\n",
    "        p = j * 2 # O(n)\n",
    "        q = j * 2 # O(n)\n",
    "    whoAmI = \"I don't know\" # O(1)\n",
    "```\n",
    "---"
   ]
  },
  {
   "cell_type": "markdown",
   "id": "1ca101e2-b702-492d-b88b-6aeab1da106d",
   "metadata": {},
   "source": [
    "## Big O: Rule 1\n",
    "\n",
    "Big-O cares about the worst-case scenario."
   ]
  },
  {
   "cell_type": "code",
   "execution_count": 20,
   "id": "21de4cba-bb5c-45fa-b20c-e04f180752bf",
   "metadata": {},
   "outputs": [],
   "source": [
    "nemo = ['nemo']\n",
    "everyone = ['dory', 'bruce', 'marin', 'nemo', 'gill', 'bloat', 'nigel', 'squirt']\n",
    "large = ['nemo']*100\n",
    "\n",
    "def findNemo(array):\n",
    "    for i in range(len(array)):\n",
    "        print('running')\n",
    "        if array[i] == 'nemo':\n",
    "            print('Found NEMO!')\n",
    "            break"
   ]
  },
  {
   "cell_type": "code",
   "execution_count": 21,
   "id": "a694d9e4-1b04-4eff-a9d5-110afb5e12df",
   "metadata": {},
   "outputs": [
    {
     "name": "stdout",
     "output_type": "stream",
     "text": [
      "running\n",
      "running\n",
      "running\n",
      "running\n",
      "Found NEMO!\n"
     ]
    }
   ],
   "source": [
    "findNemo(everyone)"
   ]
  },
  {
   "cell_type": "markdown",
   "id": "c85ed181-7bdf-46e6-b77d-e1591b235fe6",
   "metadata": {},
   "source": [
    "## Big O: Rule 2\n",
    "\n",
    "Big O don't care the constants. It removes constants."
   ]
  },
  {
   "cell_type": "code",
   "execution_count": 23,
   "id": "80941069-cfed-44f0-863e-c426bd8c6d74",
   "metadata": {},
   "outputs": [],
   "source": [
    "def printFirstItemThenFirstHalfThenSayHi100TImes(itmes):\n",
    "    print(items[0]) # O(1)\n",
    "    \n",
    "    middleIndex = int(len(items)/2) # O(1)\n",
    "    index = 0 # O(1)\n",
    "    \n",
    "    while index < middleIndex: # O(n/2)\n",
    "        print(items[index]) # O(n/2)\n",
    "        index += 1 # O(n/2)\n",
    "        \n",
    "    for i in range (100): # 100\n",
    "        print('hi') # 100"
   ]
  },
  {
   "cell_type": "markdown",
   "id": "63c6e0fe-438c-4f9f-a8e1-fd4550d98044",
   "metadata": {},
   "source": [
    "$O(1+1+1+\\frac{n}{2}+\\frac{n}{2}+\\frac{n}{2}+100+100)=O(203+\\frac{3}{2}n) \\longrightarrow O(n)$"
   ]
  },
  {
   "cell_type": "markdown",
   "id": "c5e57f4b-b625-44b1-8d84-684fe2e49751",
   "metadata": {},
   "source": [
    "## Big O: Rule 3\n",
    "\n",
    "It cares about the different terms for inputs."
   ]
  },
  {
   "cell_type": "code",
   "execution_count": 26,
   "id": "c33ab28d-1795-420f-84da-6b88e3cd7524",
   "metadata": {},
   "outputs": [],
   "source": [
    "def compressBoxesTwice(boxes, boxes2): # There are two different inputs.\n",
    "    [print(box) for box in boxes] # depends on the first input\n",
    "    \n",
    "    [print(box) for box in boxes2] # depends on the second input"
   ]
  },
  {
   "cell_type": "markdown",
   "id": "3fd44bdb-504b-4b81-b4fd-825c404c0f34",
   "metadata": {},
   "source": [
    "$O(n+m)$"
   ]
  },
  {
   "cell_type": "markdown",
   "id": "e250a43d-737a-4eb9-b0eb-5fa65c1ac692",
   "metadata": {},
   "source": [
    "## $O(n^2)$ - Quadratic Time"
   ]
  },
  {
   "cell_type": "code",
   "execution_count": 33,
   "id": "00b08efe-4158-41c1-8c63-ba94407a67cc",
   "metadata": {},
   "outputs": [],
   "source": [
    "# Print all pairs of array\n",
    "boxes = ['a','b','c','d','e']\n",
    "boxes2 = ['i','j','k','l']\n",
    "def printAllParisOfArray(array):\n",
    "    for i in range(len(array)):\n",
    "        for j in range(len(array)):\n",
    "            print(array[i], array[j]) # O(n^2)\n",
    "            \n",
    "def printAllParisOfArrays(array1, array2):\n",
    "    for i in range(len(array1)): # depends on the first input (n)\n",
    "        for j in range(len(array2)): # depends on the first input (m)\n",
    "            print(array1[i], array2[j]) # O(n*m)"
   ]
  },
  {
   "cell_type": "code",
   "execution_count": 32,
   "id": "87977943-2bdd-40a0-8b7b-e8ea87d1c362",
   "metadata": {},
   "outputs": [
    {
     "name": "stdout",
     "output_type": "stream",
     "text": [
      "a a\n",
      "a b\n",
      "a c\n",
      "a d\n",
      "a e\n",
      "b a\n",
      "b b\n",
      "b c\n",
      "b d\n",
      "b e\n",
      "c a\n",
      "c b\n",
      "c c\n",
      "c d\n",
      "c e\n",
      "d a\n",
      "d b\n",
      "d c\n",
      "d d\n",
      "d e\n",
      "e a\n",
      "e b\n",
      "e c\n",
      "e d\n",
      "e e\n"
     ]
    }
   ],
   "source": [
    "printAllParisOfArray(boxes)"
   ]
  },
  {
   "cell_type": "code",
   "execution_count": 34,
   "id": "3ca4db04-10a9-4f71-9eac-17e6d3511cc8",
   "metadata": {},
   "outputs": [
    {
     "name": "stdout",
     "output_type": "stream",
     "text": [
      "a i\n",
      "a j\n",
      "a k\n",
      "a l\n",
      "b i\n",
      "b j\n",
      "b k\n",
      "b l\n",
      "c i\n",
      "c j\n",
      "c k\n",
      "c l\n",
      "d i\n",
      "d j\n",
      "d k\n",
      "d l\n",
      "e i\n",
      "e j\n",
      "e k\n",
      "e l\n"
     ]
    }
   ],
   "source": [
    "printAllParisOfArrays(boxes, boxes2)"
   ]
  },
  {
   "cell_type": "markdown",
   "id": "cd5ae864-0d96-4e5b-88ce-79b1e257fa1d",
   "metadata": {},
   "source": [
    "## Big O: Rule 4\n",
    "\n",
    "It drops non dominants"
   ]
  },
  {
   "cell_type": "code",
   "execution_count": null,
   "id": "1bb2faad-d159-43e8-82cf-a1a15dd6e489",
   "metadata": {},
   "outputs": [],
   "source": []
  },
  {
   "cell_type": "code",
   "execution_count": null,
   "id": "1cb6830d-defe-4754-b8c8-ccfcd19ba6fb",
   "metadata": {},
   "outputs": [],
   "source": []
  },
  {
   "cell_type": "code",
   "execution_count": null,
   "id": "f56cbd05-d096-48da-adac-92b6f6c183b1",
   "metadata": {},
   "outputs": [],
   "source": []
  },
  {
   "cell_type": "code",
   "execution_count": null,
   "id": "14ec36e2-260b-405c-b92f-e862b3c7ccbc",
   "metadata": {},
   "outputs": [],
   "source": []
  },
  {
   "cell_type": "code",
   "execution_count": null,
   "id": "6c104b59-3626-4245-83da-e97c7fc52398",
   "metadata": {},
   "outputs": [],
   "source": []
  },
  {
   "cell_type": "code",
   "execution_count": null,
   "id": "72c07625-2f71-4c15-8b5a-049df9cd124e",
   "metadata": {},
   "outputs": [],
   "source": []
  },
  {
   "cell_type": "code",
   "execution_count": null,
   "id": "9b2b11d0-cc4e-4389-baf1-96913f3b0b93",
   "metadata": {},
   "outputs": [],
   "source": []
  },
  {
   "cell_type": "code",
   "execution_count": null,
   "id": "c1b1fbf3-7f90-4d72-b174-e63cde78deff",
   "metadata": {},
   "outputs": [],
   "source": []
  },
  {
   "cell_type": "code",
   "execution_count": null,
   "id": "9f90ada4-8389-42e0-a32b-d5dbab5974a9",
   "metadata": {},
   "outputs": [],
   "source": []
  },
  {
   "cell_type": "code",
   "execution_count": null,
   "id": "e7fbe1ff-c980-4093-a974-108d970aa629",
   "metadata": {},
   "outputs": [],
   "source": []
  },
  {
   "cell_type": "code",
   "execution_count": null,
   "id": "53075561-28ef-4729-93bb-b5e38058eef6",
   "metadata": {},
   "outputs": [],
   "source": []
  },
  {
   "cell_type": "code",
   "execution_count": null,
   "id": "df8443da-ffc7-444b-ac6f-5712fceb0099",
   "metadata": {},
   "outputs": [],
   "source": []
  },
  {
   "cell_type": "code",
   "execution_count": null,
   "id": "91cc9c22-e6c2-487d-ad0f-0fb97a2dee95",
   "metadata": {},
   "outputs": [],
   "source": []
  },
  {
   "cell_type": "code",
   "execution_count": null,
   "id": "11f05a81-d300-4676-b66b-537b25725ca9",
   "metadata": {},
   "outputs": [],
   "source": []
  },
  {
   "cell_type": "code",
   "execution_count": null,
   "id": "367ed781-b0b5-4b1d-a02d-d155d0aa9ef9",
   "metadata": {},
   "outputs": [],
   "source": []
  },
  {
   "cell_type": "code",
   "execution_count": null,
   "id": "ab46905e-4cfd-4561-914d-cf5e565d7d66",
   "metadata": {},
   "outputs": [],
   "source": []
  },
  {
   "cell_type": "code",
   "execution_count": null,
   "id": "abd0a128-fc3a-401b-9443-72d746e6c2eb",
   "metadata": {},
   "outputs": [],
   "source": []
  },
  {
   "cell_type": "code",
   "execution_count": null,
   "id": "c72a1f66-0220-4fc1-a755-2f68012fc5eb",
   "metadata": {},
   "outputs": [],
   "source": []
  },
  {
   "cell_type": "code",
   "execution_count": null,
   "id": "091d4e91-fbfe-4d43-b152-5038dfb738b0",
   "metadata": {},
   "outputs": [],
   "source": []
  },
  {
   "cell_type": "code",
   "execution_count": null,
   "id": "a3df9761-a9e5-440b-bd1a-8bc2e309a318",
   "metadata": {},
   "outputs": [],
   "source": []
  }
 ],
 "metadata": {
  "kernelspec": {
   "display_name": "AIML",
   "language": "python",
   "name": "aiml"
  },
  "language_info": {
   "codemirror_mode": {
    "name": "ipython",
    "version": 3
   },
   "file_extension": ".py",
   "mimetype": "text/x-python",
   "name": "python",
   "nbconvert_exporter": "python",
   "pygments_lexer": "ipython3",
   "version": "3.8.12"
  }
 },
 "nbformat": 4,
 "nbformat_minor": 5
}
