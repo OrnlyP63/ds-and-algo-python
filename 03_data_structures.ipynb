{
 "cells": [
  {
   "cell_type": "markdown",
   "id": "71781250-434b-4ea1-b04d-cb164f384493",
   "metadata": {},
   "source": [
    "### Operations on Data Structures\n",
    "\n",
    "- Insertion\n",
    "- Deletion\n",
    "- Traversal\n",
    "- Searching\n",
    "- Sorting\n",
    "\n",
    "`8 bits = 1 byte`  \n",
    "`1 char = 4 bytes`"
   ]
  },
  {
   "cell_type": "markdown",
   "id": "87b403ff-80ef-471c-bbcc-338472fc39db",
   "metadata": {},
   "source": [
    "# Array\n",
    "- lookup $O(1)$\n",
    "- push $O(1)$\n",
    "- insert $O(n)$\n",
    "- delete $O(n)$"
   ]
  },
  {
   "cell_type": "code",
   "execution_count": 1,
   "id": "629fbfc0-d3b7-4f7d-a502-9a04c60a22f2",
   "metadata": {},
   "outputs": [],
   "source": [
    "# 4*4 = 16 bytes of storage\n",
    "strings = ['a', 'b', 'c', 'd'] # index: [0, 1, 2, 3]\n"
   ]
  },
  {
   "cell_type": "code",
   "execution_count": 2,
   "id": "021b494e-5809-4879-a589-d42c900ee55e",
   "metadata": {},
   "outputs": [
    {
     "data": {
      "text/plain": [
       "'c'"
      ]
     },
     "execution_count": 2,
     "metadata": {},
     "output_type": "execute_result"
    }
   ],
   "source": [
    "strings[2] # O(1)"
   ]
  },
  {
   "cell_type": "code",
   "execution_count": 3,
   "id": "9591be71-08e7-478b-9f1c-a1ecb261346e",
   "metadata": {},
   "outputs": [
    {
     "data": {
      "text/plain": [
       "['a', 'b', 'c', 'd', 'e']"
      ]
     },
     "execution_count": 3,
     "metadata": {},
     "output_type": "execute_result"
    }
   ],
   "source": [
    "# Push -> O(1) or Append -> O(1) ; Append can be O(n)\n",
    "strings.append('e')\n",
    "strings"
   ]
  },
  {
   "cell_type": "code",
   "execution_count": 4,
   "id": "1b0aec42-ac21-4549-be2c-ba1728f7bf78",
   "metadata": {},
   "outputs": [
    {
     "data": {
      "text/plain": [
       "['a', 'b', 'c', 'd']"
      ]
     },
     "execution_count": 4,
     "metadata": {},
     "output_type": "execute_result"
    }
   ],
   "source": [
    "# Pop -> O(1)\n",
    "strings.pop()\n",
    "strings"
   ]
  },
  {
   "cell_type": "code",
   "execution_count": 5,
   "id": "3aaa91d6-6099-47d6-bdce-66543197a385",
   "metadata": {},
   "outputs": [
    {
     "data": {
      "text/plain": [
       "['a', 'b', 'd']"
      ]
     },
     "execution_count": 5,
     "metadata": {},
     "output_type": "execute_result"
    }
   ],
   "source": [
    "# Remove -> O(n)\n",
    "strings.remove('c')\n",
    "strings"
   ]
  },
  {
   "cell_type": "code",
   "execution_count": 6,
   "id": "db637796-cfbe-4344-8968-6755451ec765",
   "metadata": {},
   "outputs": [
    {
     "data": {
      "text/plain": [
       "['x', 'a', 'b', 'd']"
      ]
     },
     "execution_count": 6,
     "metadata": {},
     "output_type": "execute_result"
    }
   ],
   "source": [
    "# Insert -> O(n)\n",
    "strings.insert(0, 'x') # index: {0:'a', 1:'b', 2:'c', 3:'d'} -> {0:'x', 1:'a', 2:'b', 3:'c', 4:'d'}\n",
    "strings"
   ]
  },
  {
   "cell_type": "markdown",
   "id": "1c3a344f-03a9-45ea-b214-6f32c8ddd478",
   "metadata": {},
   "source": [
    "## Class in Python"
   ]
  },
  {
   "cell_type": "markdown",
   "id": "a80642c2-2e02-4535-9ee5-29226161c9bd",
   "metadata": {},
   "source": [
    "reference type"
   ]
  },
  {
   "cell_type": "code",
   "execution_count": 7,
   "id": "b6ccadcf-82f6-4506-921f-12ab11fbeb16",
   "metadata": {},
   "outputs": [],
   "source": [
    "class Object:\n",
    "    def __init__(self, value):\n",
    "        self.value = value"
   ]
  },
  {
   "cell_type": "code",
   "execution_count": 8,
   "id": "de75602f-bc04-4890-9cc9-612070dc0d33",
   "metadata": {},
   "outputs": [],
   "source": [
    "object1 = Object(value=10)\n",
    "object2 = object1\n",
    "object3 = Object(value=10)"
   ]
  },
  {
   "cell_type": "code",
   "execution_count": 9,
   "id": "f4c6fcde-6d74-48c4-8e17-ad26b139429c",
   "metadata": {},
   "outputs": [
    {
     "data": {
      "text/plain": [
       "True"
      ]
     },
     "execution_count": 9,
     "metadata": {},
     "output_type": "execute_result"
    }
   ],
   "source": [
    "object1 == object2"
   ]
  },
  {
   "cell_type": "code",
   "execution_count": 10,
   "id": "310c529d-ba58-4840-80ac-911bfa37d670",
   "metadata": {},
   "outputs": [
    {
     "data": {
      "text/plain": [
       "False"
      ]
     },
     "execution_count": 10,
     "metadata": {},
     "output_type": "execute_result"
    }
   ],
   "source": [
    "object1 == object3"
   ]
  },
  {
   "cell_type": "code",
   "execution_count": 11,
   "id": "8da840fc-f13a-4ea0-99ae-4e66e30e95c3",
   "metadata": {},
   "outputs": [],
   "source": [
    "object1.value = 15"
   ]
  },
  {
   "cell_type": "code",
   "execution_count": 12,
   "id": "7b93176e-ae14-4f78-8f66-0cceb56629f0",
   "metadata": {},
   "outputs": [
    {
     "data": {
      "text/plain": [
       "(15, 15)"
      ]
     },
     "execution_count": 12,
     "metadata": {},
     "output_type": "execute_result"
    }
   ],
   "source": [
    "object1.value, object2.value"
   ]
  },
  {
   "cell_type": "markdown",
   "id": "1c3a2b81-cef5-4726-af4f-eb2cae4aeda2",
   "metadata": {},
   "source": [
    "Dictionary"
   ]
  },
  {
   "cell_type": "code",
   "execution_count": 13,
   "id": "314f23fe-797c-4d0e-8a46-147ac710e704",
   "metadata": {},
   "outputs": [],
   "source": [
    "object1 = {'value':10}\n",
    "object2 = object1\n",
    "object3 = {'value':10}"
   ]
  },
  {
   "cell_type": "code",
   "execution_count": 14,
   "id": "70f6043a-fba3-437b-9811-7e34c9d2ef8d",
   "metadata": {},
   "outputs": [
    {
     "data": {
      "text/plain": [
       "({'value': 10}, {'value': 10}, {'value': 10})"
      ]
     },
     "execution_count": 14,
     "metadata": {},
     "output_type": "execute_result"
    }
   ],
   "source": [
    "object1, object2, object3"
   ]
  },
  {
   "cell_type": "code",
   "execution_count": 15,
   "id": "4d1c91e9-157b-45ef-8359-602be610fa09",
   "metadata": {},
   "outputs": [
    {
     "data": {
      "text/plain": [
       "True"
      ]
     },
     "execution_count": 15,
     "metadata": {},
     "output_type": "execute_result"
    }
   ],
   "source": [
    "object1 == object2"
   ]
  },
  {
   "cell_type": "code",
   "execution_count": 16,
   "id": "9e1db6cb-e48a-4563-b54f-a9ed4fb79f21",
   "metadata": {},
   "outputs": [
    {
     "data": {
      "text/plain": [
       "True"
      ]
     },
     "execution_count": 16,
     "metadata": {},
     "output_type": "execute_result"
    }
   ],
   "source": [
    "object1 == object3"
   ]
  },
  {
   "cell_type": "code",
   "execution_count": 17,
   "id": "97e7feb3-7708-4f00-9884-7f57a7b11661",
   "metadata": {},
   "outputs": [],
   "source": [
    "class Player:\n",
    "    def __init__(self, name, player_type):\n",
    "        self.name = name\n",
    "        self.type = player_type\n",
    "        \n",
    "    def introduce(self):\n",
    "        print(f\"Hi I am {self.name}. I'm a {self.type}\")\n",
    "        \n",
    "class Wizard(Player):\n",
    "    def __init__(self, name, player_type):\n",
    "        super().__init__(name, player_type)\n",
    "        \n",
    "    def play(self):\n",
    "        print(f\"WEEEE I'm a {self.type}\")"
   ]
  },
  {
   "cell_type": "code",
   "execution_count": 18,
   "id": "c817eb62-95f1-49c3-bb08-e2801c7e1cba",
   "metadata": {},
   "outputs": [],
   "source": [
    "wizard1 = Wizard('Shelly', 'Healer')\n",
    "wizard2 = Wizard('Shawn', 'Dark Magic')"
   ]
  },
  {
   "cell_type": "code",
   "execution_count": 19,
   "id": "969c913b-265f-452a-8510-9185d1abaee2",
   "metadata": {},
   "outputs": [
    {
     "name": "stdout",
     "output_type": "stream",
     "text": [
      "WEEEE I'm a Healer\n"
     ]
    }
   ],
   "source": [
    "wizard1.play()"
   ]
  },
  {
   "cell_type": "code",
   "execution_count": 20,
   "id": "04ca0b51-49bc-4bb1-b537-ef0b8d0b41e7",
   "metadata": {},
   "outputs": [
    {
     "name": "stdout",
     "output_type": "stream",
     "text": [
      "Hi I am Shelly. I'm a Healer\n"
     ]
    }
   ],
   "source": [
    "wizard1.introduce()"
   ]
  },
  {
   "cell_type": "code",
   "execution_count": 21,
   "id": "fb0b6270-7502-4e2b-9ec4-0be56204ff4f",
   "metadata": {},
   "outputs": [
    {
     "name": "stdout",
     "output_type": "stream",
     "text": [
      "WEEEE I'm a Dark Magic\n"
     ]
    }
   ],
   "source": [
    "wizard2.play()"
   ]
  },
  {
   "cell_type": "code",
   "execution_count": 22,
   "id": "8e941c4a-69cc-43fe-963c-6f35a2519415",
   "metadata": {},
   "outputs": [
    {
     "name": "stdout",
     "output_type": "stream",
     "text": [
      "Hi I am Shawn. I'm a Dark Magic\n"
     ]
    }
   ],
   "source": [
    "wizard2.introduce()"
   ]
  },
  {
   "cell_type": "markdown",
   "id": "797e8c8a-0c6f-41f9-8b19-3550bac679b7",
   "metadata": {},
   "source": [
    "## Static vs Dynamic Arrays\n",
    "\n",
    "Python's List is dynamic array - https://medium.com/tech-interview-collection/python-static-arrays-dynamic-arrays-and-deques-b9344aac80af"
   ]
  },
  {
   "cell_type": "markdown",
   "id": "794c7de5-dc26-4fc6-b06c-856265f5ae19",
   "metadata": {},
   "source": [
    "## Implementing An Array\n",
    "\n",
    "1. How to build one\n",
    "2. How to use it"
   ]
  },
  {
   "cell_type": "code",
   "execution_count": 23,
   "id": "d0f7c5e5-23a8-40e0-9261-37f0ad42fe3c",
   "metadata": {},
   "outputs": [],
   "source": [
    "class Array:\n",
    "    def __init__(self):\n",
    "        self.length = 0\n",
    "        self.data = {}\n",
    "        \n",
    "    def get(self, index):\n",
    "        return self.data[index]\n",
    "    \n",
    "    def push(self, item):\n",
    "        self.data[self.length] = item\n",
    "        self.length += 1\n",
    "        return self.length\n",
    "    \n",
    "    def pop(self):\n",
    "        lastItem = self.data[self.length-1]\n",
    "        del self.data[self.length-1]\n",
    "        self.length -= 1\n",
    "        return lastItem\n",
    "    \n",
    "    def delete(self,index):\n",
    "        for i in range(index, self.length-1):\n",
    "            self.data[i] = self.data[i+1] \n",
    "        del self.data[self.length - 1] \n",
    "        self.length -= 1 "
   ]
  },
  {
   "cell_type": "code",
   "execution_count": 24,
   "id": "b3e575c1-1086-4500-b0b8-b4bd76f06e69",
   "metadata": {},
   "outputs": [],
   "source": [
    "newArray = Array()"
   ]
  },
  {
   "cell_type": "code",
   "execution_count": 25,
   "id": "d21d7049-e551-4d34-b48c-87724bb6a648",
   "metadata": {},
   "outputs": [
    {
     "data": {
      "text/plain": [
       "3"
      ]
     },
     "execution_count": 25,
     "metadata": {},
     "output_type": "execute_result"
    }
   ],
   "source": [
    "newArray.push('hi')\n",
    "newArray.push('you')\n",
    "newArray.push('!')"
   ]
  },
  {
   "cell_type": "code",
   "execution_count": 26,
   "id": "0be6cbbc-64a5-4fe0-94f5-f5a9e09fa5f1",
   "metadata": {},
   "outputs": [
    {
     "data": {
      "text/plain": [
       "{0: 'hi', 1: 'you', 2: '!'}"
      ]
     },
     "execution_count": 26,
     "metadata": {},
     "output_type": "execute_result"
    }
   ],
   "source": [
    "newArray.data"
   ]
  },
  {
   "cell_type": "code",
   "execution_count": 27,
   "id": "308a09d8-11a8-43f6-b4a1-9e81ae42aaf6",
   "metadata": {},
   "outputs": [],
   "source": [
    "# newArray.pop()"
   ]
  },
  {
   "cell_type": "code",
   "execution_count": 28,
   "id": "6b7fe813-4f73-4c6e-93b8-91f637b691ad",
   "metadata": {},
   "outputs": [
    {
     "data": {
      "text/plain": [
       "{0: 'hi', 1: 'you', 2: '!'}"
      ]
     },
     "execution_count": 28,
     "metadata": {},
     "output_type": "execute_result"
    }
   ],
   "source": [
    "newArray.data"
   ]
  },
  {
   "cell_type": "code",
   "execution_count": 29,
   "id": "f2b9b8cf-341a-405d-a9fa-eba4a62c805d",
   "metadata": {},
   "outputs": [],
   "source": [
    "newArray.delete(1)"
   ]
  },
  {
   "cell_type": "code",
   "execution_count": 30,
   "id": "751284fc-fbaf-46ea-a960-7b2b107abb6e",
   "metadata": {},
   "outputs": [
    {
     "data": {
      "text/plain": [
       "{0: 'hi', 1: '!'}"
      ]
     },
     "execution_count": 30,
     "metadata": {},
     "output_type": "execute_result"
    }
   ],
   "source": [
    "newArray.data"
   ]
  },
  {
   "cell_type": "markdown",
   "id": "80708483-c1f4-49a0-a3f2-53615f89e49c",
   "metadata": {},
   "source": [
    "Execise: reverse a string"
   ]
  },
  {
   "cell_type": "code",
   "execution_count": 31,
   "id": "ca6ba7c6-00e1-49f1-8e7c-c88d7d14373d",
   "metadata": {},
   "outputs": [],
   "source": [
    "def reverse(string:str):\n",
    "    length = len(string)\n",
    "    if length<2:\n",
    "        return 'hmm that is not good'\n",
    "    \n",
    "    backwards = ''\n",
    "    for i in range(length-1, -1, -1):\n",
    "        backwards += string[i]\n",
    "        \n",
    "    return backwards"
   ]
  },
  {
   "cell_type": "code",
   "execution_count": 32,
   "id": "d5998725-c58c-43e7-8cdd-194c774a686a",
   "metadata": {},
   "outputs": [
    {
     "data": {
      "text/plain": [
       "\"tahpihP m'I ,olleh\""
      ]
     },
     "execution_count": 32,
     "metadata": {},
     "output_type": "execute_result"
    }
   ],
   "source": [
    "reverse(\"hello, I'm Phiphat\")"
   ]
  },
  {
   "cell_type": "markdown",
   "id": "9f95156c-b390-4b8c-b059-bcf568b23d89",
   "metadata": {},
   "source": [
    "Exercise : Merge Sorted Arrays\n",
    "\n",
    "```python\n",
    "# input\n",
    "meargeSortedArrays([0,3,4,31], [4, 6, 30])\n",
    "\n",
    "# output\n",
    "[0, 3, 4, 4, 6, 30, 31]\n",
    "```"
   ]
  },
  {
   "cell_type": "code",
   "execution_count": 33,
   "id": "eb477cee-aa4a-44ec-81b9-a6efc1519a03",
   "metadata": {},
   "outputs": [],
   "source": [
    "def meargeSortedArrays(array1, array2):\n",
    "    \n",
    "    meargedArray = []\n",
    "    array1Item = array1[0]\n",
    "    array2Item = array2[0]\n",
    "    i = 1\n",
    "    j = 1\n",
    "    # Check input\n",
    "    \n",
    "    if len(array1) == 0:\n",
    "        return array2\n",
    "    elif len(array2) == 0:\n",
    "        return array1\n",
    "    \n",
    "    while len(array1) > i or len(array2) > j:\n",
    "        if array1Item < array2Item:\n",
    "            meargedArray.append(array1Item)\n",
    "            array1Item = array1[i]\n",
    "            i += 1\n",
    "        else:\n",
    "            meargedArray.append(array2Item)\n",
    "            array2Item = array2[j]\n",
    "            j += 1\n",
    "        \n",
    "    if  array1Item < array2Item:\n",
    "        meargedArray.append(array1Item)\n",
    "        meargedArray.append(array2Item)\n",
    "    else: \n",
    "        meargedArray.append(array2Item)\n",
    "        meargedArray.append(array1Item)\n",
    "        \n",
    "    return meargedArray"
   ]
  },
  {
   "cell_type": "code",
   "execution_count": 34,
   "id": "6dade537-e0f4-494f-ba1a-2f484154e487",
   "metadata": {},
   "outputs": [
    {
     "data": {
      "text/plain": [
       "[0, 3, 4, 4, 6, 30, 31]"
      ]
     },
     "execution_count": 34,
     "metadata": {},
     "output_type": "execute_result"
    }
   ],
   "source": [
    "meargeSortedArrays([0, 3, 4, 31], [4, 6, 30])"
   ]
  },
  {
   "cell_type": "markdown",
   "id": "21e55dd0-d14b-453f-a226-b14886043c9c",
   "metadata": {},
   "source": [
    "## Pros vs Cons of The Array Structure\n",
    "Pros:\n",
    "- Fast lookups\n",
    "- Fast push/pop\n",
    "- Orderd\n",
    "\n",
    "Cons\n",
    "- Slow inserts\n",
    "- Slow deletes\n",
    "- Fixed size"
   ]
  },
  {
   "cell_type": "markdown",
   "id": "7d4c583f-caf4-4af6-8ded-964b23722d39",
   "metadata": {},
   "source": [
    "# Hash Tables\n",
    "- lookup $O(1)$\n",
    "- push $O(1)$\n",
    "- search $O(1)$\n",
    "- delete $O(1)$ \n",
    "\n",
    "\n",
    "Keys vs Values\n",
    "```Python\n",
    "{key: value}\n",
    "```\n",
    "\n",
    "hash function: idempotent"
   ]
  },
  {
   "cell_type": "code",
   "execution_count": 35,
   "id": "7302db91-b612-4545-b9ae-b0784b30709c",
   "metadata": {},
   "outputs": [],
   "source": [
    "def scream():\n",
    "    print('ahhhhhhhh')\n",
    "\n",
    "user = {\n",
    "    'age': 54,\n",
    "    'name': 'Pom',\n",
    "    'magic': True,\n",
    "    'scream': scream\n",
    "}"
   ]
  },
  {
   "cell_type": "code",
   "execution_count": 36,
   "id": "6023d595-1297-4613-9e6a-6bed63a28586",
   "metadata": {},
   "outputs": [
    {
     "data": {
      "text/plain": [
       "54"
      ]
     },
     "execution_count": 36,
     "metadata": {},
     "output_type": "execute_result"
    }
   ],
   "source": [
    "user['age'] # O(1)"
   ]
  },
  {
   "cell_type": "code",
   "execution_count": 37,
   "id": "3cbd6bf2-2338-4096-a1cc-4fc0f2b7e59c",
   "metadata": {},
   "outputs": [
    {
     "name": "stdout",
     "output_type": "stream",
     "text": [
      "ahhhhhhhh\n"
     ]
    }
   ],
   "source": [
    "user['scream']()"
   ]
  },
  {
   "cell_type": "code",
   "execution_count": 38,
   "id": "4640c3f8-7229-4208-bea2-cacfa8d97d46",
   "metadata": {},
   "outputs": [],
   "source": [
    "user['spell'] = 'avra kadabra' # O(1)"
   ]
  },
  {
   "cell_type": "markdown",
   "id": "70138f00-832c-4b75-98c6-6d4e5f38525f",
   "metadata": {},
   "source": [
    "## Hash Collisions\n",
    "$O(n/k) \\longrightarrow O(n)$"
   ]
  },
  {
   "cell_type": "markdown",
   "id": "702be9b3-8765-4785-ae3d-7f62c4580d14",
   "metadata": {},
   "source": [
    "```js\n",
    " keys() {\n",
    "    if (!this.data.length) {\n",
    "      return undefined\n",
    "    }\n",
    "    let result = []\n",
    "    // loop through all the elements\n",
    "    for (let i = 0; i < this.data.length; i++) {\n",
    "        // if it's not an empty memory cell\n",
    "        if (this.data[i] && this.data[i].length) {\n",
    "          // but also loop through all the potential collisions\n",
    "          if (this.data.length > 1) {\n",
    "            for (let j = 0; j < this.data[i].length; j++) {\n",
    "              result.push(this.data[i][j][0])\n",
    "            }\n",
    "          } else {\n",
    "            result.push(this.data[i][0])\n",
    "          } \n",
    "        }\n",
    "    }\n",
    "    return result; \n",
    "  }\n",
    "```\n"
   ]
  },
  {
   "cell_type": "code",
   "execution_count": 45,
   "id": "6c5ef785-fdad-4885-9abb-57d522021852",
   "metadata": {},
   "outputs": [],
   "source": [
    "class hash_table:\n",
    "    def __init__(self, size):\n",
    "        self.size = size\n",
    "        self.data = [None] * self.size\n",
    "        \n",
    "    def _hash(self, key): \n",
    "        Hash = 0\n",
    "        for i in range(len(key)):\n",
    "            Hash = (Hash + ord(key[i])*i) % self.size\n",
    "        \n",
    "        return Hash\n",
    "    \n",
    "    def __str__(self):\n",
    "        return str(self.data)\n",
    "    \n",
    "    def set_key(self, key, value): # O(1)\n",
    "        Hash = self._hash(key)\n",
    "        \n",
    "        if not self.data[Hash]:\n",
    "            self.data[Hash] = []\n",
    "        \n",
    "        self.data[Hash].append((key, value))\n",
    "            \n",
    "    def get_value(self, key): # O(1)\n",
    "        Hash = self._hash(key)\n",
    "        \n",
    "        if self.data[Hash]:\n",
    "            for h in self.data[Hash]:\n",
    "                if h[0] == key:\n",
    "                    return h[1]\n",
    "        return None\n",
    "    \n",
    "    def keys(self):\n",
    "        keys_array = [[h[0] for h in d] for d in self.data]\n",
    "        return sum(keys_array, [])\n",
    "    \n",
    "    def values(self):\n",
    "        values_array = [[h[1] for h in d] for d in self.data]\n",
    "        return sum(values_array, [])"
   ]
  },
  {
   "cell_type": "code",
   "execution_count": 40,
   "id": "c9afa0bc-d70a-4b7c-a1fa-e27e2e444f4d",
   "metadata": {},
   "outputs": [
    {
     "name": "stdout",
     "output_type": "stream",
     "text": [
      "[None, None]\n"
     ]
    }
   ],
   "source": [
    "H_table = hash_table(2)\n",
    "print(H_table)"
   ]
  },
  {
   "cell_type": "code",
   "execution_count": 41,
   "id": "7a16ccf7-ef1a-46ca-82bf-3105dec092ff",
   "metadata": {},
   "outputs": [
    {
     "name": "stdout",
     "output_type": "stream",
     "text": [
      "[[('one', 1)], None]\n",
      "[[('one', 1)], [('two', 2)]]\n",
      "[[('one', 1)], [('two', 2), ('three', 3)]]\n",
      "[[('one', 1)], [('two', 2), ('three', 3), ('four', 4)]]\n",
      "[[('one', 1), ('five', 5)], [('two', 2), ('three', 3), ('four', 4)]]\n"
     ]
    }
   ],
   "source": [
    "for v, k in zip([1, 2, 3, 4, 5], ['one', 'two', 'three', 'four', 'five']):\n",
    "    H_table.set_key(k, v)\n",
    "    print(H_table)"
   ]
  },
  {
   "cell_type": "code",
   "execution_count": 42,
   "id": "289446b7-2713-412b-9b27-f30c1e6c03a6",
   "metadata": {},
   "outputs": [
    {
     "name": "stdout",
     "output_type": "stream",
     "text": [
      "one 1\n",
      "two 2\n",
      "three 3\n",
      "four 4\n",
      "five 5\n"
     ]
    }
   ],
   "source": [
    "for k in ['one', 'two', 'three', 'four', 'five']:\n",
    "    print(k, H_table.get_value(k))"
   ]
  },
  {
   "cell_type": "code",
   "execution_count": 43,
   "id": "f24349ad-6441-4375-9b7a-1f93a0a354b0",
   "metadata": {},
   "outputs": [
    {
     "data": {
      "text/plain": [
       "['one', 'five', 'two', 'three', 'four']"
      ]
     },
     "execution_count": 43,
     "metadata": {},
     "output_type": "execute_result"
    }
   ],
   "source": [
    "H_table.keys()"
   ]
  },
  {
   "cell_type": "code",
   "execution_count": 44,
   "id": "eb2f8de3-3ae8-4780-bd65-89d4ac8e5522",
   "metadata": {},
   "outputs": [
    {
     "data": {
      "text/plain": [
       "[1, 5, 2, 3, 4]"
      ]
     },
     "execution_count": 44,
     "metadata": {},
     "output_type": "execute_result"
    }
   ],
   "source": [
    "H_table.values()"
   ]
  },
  {
   "cell_type": "markdown",
   "id": "de41a581-761d-4e38-b722-fb41725d452c",
   "metadata": {},
   "source": [
    "## Arrays vs Hash Tables\n",
    "\n",
    "Operation|Arrays|Hash Tables|\n",
    "|-|-|-|\n",
    "|search|$O(n)$|$O(1)$|\n",
    "|lookup|$O(1)$|$O(1)$|\n",
    "|insert|$O(n)$|$O(1)$|\n",
    "|delete|$O(n)$|$O(1)$|\n",
    "|push*|$O(1)$|-|\n",
    "\n",
    "Hash Tables  \n",
    "Pros:  \n",
    "Fast lookups, insert, Flexible Keys\n",
    "\n",
    "Cons:  \n",
    "Unordered, Slow key iteration"
   ]
  },
  {
   "cell_type": "markdown",
   "id": "19e4b705-d082-4577-b290-6a998ffeb37c",
   "metadata": {},
   "source": [
    "Exercise Google Question:  \n",
    "Get the first recurrent charector.\n",
    "\n",
    "given an `array = [2,5,1,2,3,5,1,2,4]`\n",
    "It should return `2`\n",
    "\n",
    "given an `array = [2,1,1,2,3,5,1,2,4]`\n",
    "It should return `1`\n",
    "\n",
    "given an `array = [2,3,4,5]`\n",
    "It should return `None`"
   ]
  },
  {
   "cell_type": "code",
   "execution_count": 52,
   "id": "69bae66d-457c-41bd-9811-80ddf099cac1",
   "metadata": {},
   "outputs": [],
   "source": [
    "array1 = [2,5,1,2,3,5,1,2,4]\n",
    "array2 = [2,1,1,2,3,5,1,2,4]\n",
    "array3 = [2,3,4,5]"
   ]
  },
  {
   "cell_type": "code",
   "execution_count": 56,
   "id": "439f1502-b416-4d0e-a1f7-fd251e8673a3",
   "metadata": {},
   "outputs": [],
   "source": [
    "def the_first_reccurent(array):\n",
    "    box_array = []\n",
    "    for a in array:\n",
    "        if not a in box_array:\n",
    "            box_array.append(a)\n",
    "        else: \n",
    "            return a\n",
    "            break"
   ]
  },
  {
   "cell_type": "code",
   "execution_count": 57,
   "id": "08e29e08-d0f2-433d-9382-309ddcd71871",
   "metadata": {},
   "outputs": [
    {
     "data": {
      "text/plain": [
       "2"
      ]
     },
     "execution_count": 57,
     "metadata": {},
     "output_type": "execute_result"
    }
   ],
   "source": [
    "the_first_reccurent(array1)"
   ]
  },
  {
   "cell_type": "code",
   "execution_count": 58,
   "id": "77fbc8ee-a6e5-4dd4-8e5b-529737c1acac",
   "metadata": {},
   "outputs": [
    {
     "data": {
      "text/plain": [
       "1"
      ]
     },
     "execution_count": 58,
     "metadata": {},
     "output_type": "execute_result"
    }
   ],
   "source": [
    "the_first_reccurent(array2)"
   ]
  },
  {
   "cell_type": "code",
   "execution_count": 59,
   "id": "1a135f4f-a7fa-44bb-a8bd-d2cd6062eb59",
   "metadata": {},
   "outputs": [],
   "source": [
    "the_first_reccurent(array3)"
   ]
  },
  {
   "cell_type": "code",
   "execution_count": null,
   "id": "fc363bf8-d8d6-4d1b-b839-7af0746ef9f0",
   "metadata": {},
   "outputs": [],
   "source": []
  },
  {
   "cell_type": "code",
   "execution_count": null,
   "id": "d84ecc9c-2b18-436a-8ad5-50eb31e79540",
   "metadata": {},
   "outputs": [],
   "source": []
  },
  {
   "cell_type": "code",
   "execution_count": null,
   "id": "ed9fceb8-b695-4963-abd6-9216059183f7",
   "metadata": {},
   "outputs": [],
   "source": []
  },
  {
   "cell_type": "code",
   "execution_count": null,
   "id": "501e5ef2-b6f1-41bd-9cc4-2a7ffe6d7c49",
   "metadata": {},
   "outputs": [],
   "source": []
  },
  {
   "cell_type": "code",
   "execution_count": null,
   "id": "cf3c1055-3090-4d67-841d-7f04a99e18f5",
   "metadata": {},
   "outputs": [],
   "source": []
  },
  {
   "cell_type": "code",
   "execution_count": null,
   "id": "bb46400e-a526-4e67-9ea6-0f6f54474a98",
   "metadata": {},
   "outputs": [],
   "source": []
  },
  {
   "cell_type": "code",
   "execution_count": null,
   "id": "95023dee-9435-4697-a71c-4a53576cdda6",
   "metadata": {},
   "outputs": [],
   "source": []
  },
  {
   "cell_type": "code",
   "execution_count": null,
   "id": "555336fa-cadf-4df4-8676-9165c97779ad",
   "metadata": {},
   "outputs": [],
   "source": []
  },
  {
   "cell_type": "code",
   "execution_count": null,
   "id": "6acf8b00-7cc3-4e54-819b-d8b321ba2986",
   "metadata": {},
   "outputs": [],
   "source": []
  },
  {
   "cell_type": "code",
   "execution_count": null,
   "id": "09c62fee-3f54-418a-8a0c-fd2d9b89cc37",
   "metadata": {},
   "outputs": [],
   "source": []
  },
  {
   "cell_type": "code",
   "execution_count": null,
   "id": "a4435bbd-025b-4fb5-a788-b607342fe1ac",
   "metadata": {},
   "outputs": [],
   "source": []
  },
  {
   "cell_type": "code",
   "execution_count": null,
   "id": "23e87aa6-0971-4252-b480-72e91c6b2450",
   "metadata": {},
   "outputs": [],
   "source": []
  },
  {
   "cell_type": "code",
   "execution_count": null,
   "id": "455051ab-a46c-43a2-8b66-3a64a2c21b9b",
   "metadata": {},
   "outputs": [],
   "source": []
  }
 ],
 "metadata": {
  "kernelspec": {
   "display_name": "AIML",
   "language": "python",
   "name": "aiml"
  },
  "language_info": {
   "codemirror_mode": {
    "name": "ipython",
    "version": 3
   },
   "file_extension": ".py",
   "mimetype": "text/x-python",
   "name": "python",
   "nbconvert_exporter": "python",
   "pygments_lexer": "ipython3",
   "version": "3.8.12"
  }
 },
 "nbformat": 4,
 "nbformat_minor": 5
}
