{
 "cells": [
  {
   "cell_type": "markdown",
   "id": "b15a1a10-953a-4bf9-a36d-54e5e789d7e5",
   "metadata": {},
   "source": [
    "# Algorithms"
   ]
  },
  {
   "cell_type": "markdown",
   "id": "d047c5ba-3432-44a9-874a-fa12a060ee52",
   "metadata": {},
   "source": [
    "## Recursion"
   ]
  },
  {
   "cell_type": "code",
   "execution_count": 1,
   "id": "1c351438-f863-4827-8c7b-506074934b7a",
   "metadata": {},
   "outputs": [],
   "source": [
    "def inception():\n",
    "    a = input('name: ')\n",
    "    print(f'hey {a}')\n",
    "    inception()"
   ]
  },
  {
   "cell_type": "code",
   "execution_count": 2,
   "id": "5fcf9060-086b-4b1b-adb2-02d3bcd5df93",
   "metadata": {},
   "outputs": [],
   "source": [
    "# inception()"
   ]
  },
  {
   "cell_type": "code",
   "execution_count": null,
   "id": "31c5490c-e4c0-4f84-a1c5-cd6783f5ee17",
   "metadata": {},
   "outputs": [],
   "source": []
  }
 ],
 "metadata": {
  "kernelspec": {
   "display_name": "AIML",
   "language": "python",
   "name": "aiml"
  },
  "language_info": {
   "codemirror_mode": {
    "name": "ipython",
    "version": 3
   },
   "file_extension": ".py",
   "mimetype": "text/x-python",
   "name": "python",
   "nbconvert_exporter": "python",
   "pygments_lexer": "ipython3",
   "version": "3.8.12"
  }
 },
 "nbformat": 4,
 "nbformat_minor": 5
}
