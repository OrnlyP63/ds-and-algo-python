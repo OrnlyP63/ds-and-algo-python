{
 "cells": [
  {
   "cell_type": "markdown",
   "id": "b15a1a10-953a-4bf9-a36d-54e5e789d7e5",
   "metadata": {},
   "source": [
    "# Algorithms"
   ]
  },
  {
   "cell_type": "markdown",
   "id": "d047c5ba-3432-44a9-874a-fa12a060ee52",
   "metadata": {},
   "source": [
    "## Recursion\n",
    "\n",
    "Anything you do with a recursion CAN be done iteratively (loop).\n",
    "\n",
    "Pros\n",
    "- Dry Readability\n",
    "\n",
    "Cons\n",
    "- Large Stack: $O(2^N)$\n",
    "\n",
    "### New Rule:\n",
    "\n",
    "**Everytime you are using a tree or converting somthing into a tree, consider recuresion**\n",
    "\n",
    "1. Divided into a number of subproblems that are smaller instances of the same problem.\n",
    "2. Each instance of the subproblem is identical in nature.\n",
    "3. The solutions of each subproblem can be combined to solve the problem at hand."
   ]
  },
  {
   "cell_type": "code",
   "execution_count": 1,
   "id": "1c351438-f863-4827-8c7b-506074934b7a",
   "metadata": {},
   "outputs": [],
   "source": [
    "def inception():\n",
    "    a = input('name: ')\n",
    "    print(f'hey {a}')\n",
    "    inception()"
   ]
  },
  {
   "cell_type": "code",
   "execution_count": 2,
   "id": "5fcf9060-086b-4b1b-adb2-02d3bcd5df93",
   "metadata": {},
   "outputs": [],
   "source": [
    "# inception()"
   ]
  },
  {
   "cell_type": "markdown",
   "id": "e958fd3a-e851-452e-b51f-93db690a0779",
   "metadata": {},
   "source": [
    "**Exercise:** Recursion-factorial"
   ]
  },
  {
   "cell_type": "code",
   "execution_count": 3,
   "id": "8c988391-01d6-4939-8531-bba777b4c464",
   "metadata": {},
   "outputs": [],
   "source": [
    "def find_factorial_iterative(number):\n",
    "    answer = 1\n",
    "    \n",
    "    if number < 2:\n",
    "        return number\n",
    "    \n",
    "    for i in range(2, number+1):\n",
    "        answer *= i\n",
    "        \n",
    "    return answer"
   ]
  },
  {
   "cell_type": "code",
   "execution_count": 4,
   "id": "d1a7b959-1f15-416f-be91-f7fae52e7158",
   "metadata": {},
   "outputs": [
    {
     "data": {
      "text/plain": [
       "120"
      ]
     },
     "execution_count": 4,
     "metadata": {},
     "output_type": "execute_result"
    }
   ],
   "source": [
    "find_factorial_iterative(5)"
   ]
  },
  {
   "cell_type": "code",
   "execution_count": 5,
   "id": "148e76c5-fac4-4241-a3c9-c68080717dca",
   "metadata": {},
   "outputs": [],
   "source": [
    "def find_factorial_recursive(number):\n",
    "    if number < 2:\n",
    "        return number\n",
    "    \n",
    "    return number * find_factorial_recursive(number-1)"
   ]
  },
  {
   "cell_type": "code",
   "execution_count": 6,
   "id": "f916601a-5c60-43fe-a6a9-b63298eb5eec",
   "metadata": {},
   "outputs": [
    {
     "data": {
      "text/plain": [
       "120"
      ]
     },
     "execution_count": 6,
     "metadata": {},
     "output_type": "execute_result"
    }
   ],
   "source": [
    "find_factorial_recursive(5)"
   ]
  },
  {
   "cell_type": "code",
   "execution_count": 7,
   "id": "fd0d977d-d5c5-438b-9c25-e9c60fb60298",
   "metadata": {},
   "outputs": [],
   "source": [
    "def fibonacci_iterative(n): # O(N)\n",
    "    f1, f2 = 0, 1\n",
    "    for _ in range(n):\n",
    "        f1, f2 = f2, f1+f2\n",
    "        \n",
    "    return f1"
   ]
  },
  {
   "cell_type": "code",
   "execution_count": 8,
   "id": "b4352cc7-e61c-487c-91c3-b6d764b3b143",
   "metadata": {},
   "outputs": [
    {
     "data": {
      "text/plain": [
       "55"
      ]
     },
     "execution_count": 8,
     "metadata": {},
     "output_type": "execute_result"
    }
   ],
   "source": [
    "fibonacci_iterative(10)"
   ]
  },
  {
   "cell_type": "code",
   "execution_count": 9,
   "id": "31c5490c-e4c0-4f84-a1c5-cd6783f5ee17",
   "metadata": {},
   "outputs": [],
   "source": [
    "def fibonacci_recursive(n): # O(2^N)\n",
    "    if (n < 2):\n",
    "        return n\n",
    "    \n",
    "    return fibonacci_recursive(n-1) + fibonacci_recursive(n-2)"
   ]
  },
  {
   "cell_type": "code",
   "execution_count": 10,
   "id": "febef42b-87ed-4adc-b4b9-6bd9ddbe88af",
   "metadata": {
    "tags": []
   },
   "outputs": [
    {
     "data": {
      "text/plain": [
       "55"
      ]
     },
     "execution_count": 10,
     "metadata": {},
     "output_type": "execute_result"
    }
   ],
   "source": [
    "fibonacci_recursive(10)"
   ]
  },
  {
   "cell_type": "code",
   "execution_count": 11,
   "id": "e8f16902-185c-44ab-9b21-4096bd4fc596",
   "metadata": {},
   "outputs": [],
   "source": [
    "def str_reverse(string):\n",
    "    if len(string) == 1:\n",
    "        return string\n",
    "\n",
    "    return string[-1]+str_reverse(string[:-1])"
   ]
  },
  {
   "cell_type": "code",
   "execution_count": 12,
   "id": "53e33b89-df53-4794-8a8c-28f119242665",
   "metadata": {},
   "outputs": [
    {
     "data": {
      "text/plain": [
       "'jihgfedcba'"
      ]
     },
     "execution_count": 12,
     "metadata": {},
     "output_type": "execute_result"
    }
   ],
   "source": [
    "str_reverse('abcdefghij')"
   ]
  },
  {
   "cell_type": "code",
   "execution_count": 13,
   "id": "93fce8e7-74bf-420b-af0b-4519105945d1",
   "metadata": {},
   "outputs": [
    {
     "data": {
      "text/plain": [
       "'yretsam oyoy'"
      ]
     },
     "execution_count": 13,
     "metadata": {},
     "output_type": "execute_result"
    }
   ],
   "source": [
    "str_reverse('yoyo mastery')"
   ]
  },
  {
   "cell_type": "markdown",
   "id": "e25d2d38-b79d-4398-ba37-fcd65cf61c29",
   "metadata": {},
   "source": [
    "## Sorting\n",
    "\n",
    "### Buble Sorting"
   ]
  },
  {
   "cell_type": "code",
   "execution_count": 14,
   "id": "5280a515-b442-445d-83de-3f9db0dcaa18",
   "metadata": {},
   "outputs": [],
   "source": [
    "# import random \n",
    "\n",
    "# L = list(range(100))\n",
    "# random.shuffle(L)"
   ]
  },
  {
   "cell_type": "code",
   "execution_count": 15,
   "id": "11b1ef18-8e6e-427a-97fb-982df44baa66",
   "metadata": {},
   "outputs": [],
   "source": [
    "def bubble_sort(array):\n",
    "    for _ in range(len(array)-1):\n",
    "        for j in range(len(array)-1): #O(N^2)\n",
    "            # Swap numbers\n",
    "            if array[j] > array[j+1]:\n",
    "                array[j], array[j+1] = array[j+1], array[j]\n",
    "    return array"
   ]
  },
  {
   "cell_type": "code",
   "execution_count": 16,
   "id": "f60fdd63-f099-451e-b1e5-e9077d0a5ef9",
   "metadata": {},
   "outputs": [
    {
     "data": {
      "text/plain": [
       "[0, 1, 2, 4, 5, 6, 44, 63, 87, 99, 283]"
      ]
     },
     "execution_count": 16,
     "metadata": {},
     "output_type": "execute_result"
    }
   ],
   "source": [
    "L = [99, 44, 6, 2, 1, 5, 63, 87, 283, 4, 0]\n",
    "bubble_sort(L)"
   ]
  },
  {
   "cell_type": "code",
   "execution_count": 17,
   "id": "606544bd-9d41-4e5b-a8ae-3a0d36f9d090",
   "metadata": {},
   "outputs": [],
   "source": [
    "def selection_sort(array):\n",
    "    length = len(array)\n",
    "    index = 0\n",
    "    for i in range(length):\n",
    "        minimum = i\n",
    "        for j in range(i, length):\n",
    "            if array[j] < array[minimum] :\n",
    "                minimum = j\n",
    "        \n",
    "        array[i], array[minimum] = array[minimum], array[i]\n",
    "        \n",
    "    return array"
   ]
  },
  {
   "cell_type": "code",
   "execution_count": 18,
   "id": "011278d6-13bc-47c3-a460-f87c80e28ce1",
   "metadata": {},
   "outputs": [
    {
     "data": {
      "text/plain": [
       "[0, 1, 2, 4, 5, 6, 44, 63, 87, 99, 283]"
      ]
     },
     "execution_count": 18,
     "metadata": {},
     "output_type": "execute_result"
    }
   ],
   "source": [
    "L = [99, 44, 6, 2, 1, 5, 63, 87, 283, 4, 0]\n",
    "selection_sort(L)"
   ]
  },
  {
   "cell_type": "code",
   "execution_count": 19,
   "id": "cba092fa-f155-4bfb-be58-5f84ac03153b",
   "metadata": {},
   "outputs": [],
   "source": [
    "def insertion_sort(array):\n",
    "\n",
    "    for step in range(1, len(array)):\n",
    "        key = array[step]\n",
    "        j = step - 1\n",
    "        \n",
    "        # Compare key with each element on the left of it until an element smaller than it is found\n",
    "        # For descending order, change key<array[j] to key>array[j].        \n",
    "        while j >= 0 and key < array[j]:\n",
    "            array[j + 1] = array[j]\n",
    "            j = j - 1\n",
    "        \n",
    "        # Place key at after the element just smaller than it.\n",
    "        array[j + 1] = key\n",
    "    \n",
    "    return array"
   ]
  },
  {
   "cell_type": "code",
   "execution_count": 20,
   "id": "85c75f4e-d283-4c9d-9d36-3d7023ae17a9",
   "metadata": {},
   "outputs": [
    {
     "data": {
      "text/plain": [
       "[0, 1, 2, 4, 5, 6, 44, 63, 87, 99, 283]"
      ]
     },
     "execution_count": 20,
     "metadata": {},
     "output_type": "execute_result"
    }
   ],
   "source": [
    "L = [99, 44, 6, 2, 1, 5, 63, 87, 283, 4, 0]\n",
    "insertion_sort(L)"
   ]
  },
  {
   "cell_type": "code",
   "execution_count": 21,
   "id": "ebc5557b-7ccc-4069-b888-573af53f74c3",
   "metadata": {},
   "outputs": [],
   "source": [
    "def mearg_sort(array):\n",
    "    if len(array) == 1: \n",
    "        return array\n",
    "    \n",
    "    length = len(array)\n",
    "    middle = length//2\n",
    "    left = array[:middle]\n",
    "    right = array[middle:]\n",
    "    \n",
    "    return merge(mearg_sort(left), mearg_sort(right))\n",
    "\n",
    "def merge(left, right):\n",
    "    result = []\n",
    "    left_index = 0\n",
    "    right_index = 0\n",
    "    \n",
    "    while left_index < len(left) and right_index < len(right):\n",
    "        \n",
    "        if left[left_index] < right[right_index]:\n",
    "            result.append(left[left_index])\n",
    "            left_index += 1\n",
    "            \n",
    "        else:\n",
    "            result.append(right[right_index])\n",
    "            right_index += 1\n",
    "            \n",
    "    return result + left[left_index:] + right[right_index:]"
   ]
  },
  {
   "cell_type": "code",
   "execution_count": 22,
   "id": "d9a73255-0f7e-47fa-ba58-67f3c78126fe",
   "metadata": {},
   "outputs": [
    {
     "data": {
      "text/plain": [
       "[0, 1, 2, 4, 5, 6, 44, 63, 87, 99, 283]"
      ]
     },
     "execution_count": 22,
     "metadata": {},
     "output_type": "execute_result"
    }
   ],
   "source": [
    "L = [99, 44, 6, 2, 1, 5, 63, 87, 283, 4, 0]\n",
    "mearg_sort(L)"
   ]
  },
  {
   "cell_type": "code",
   "execution_count": 23,
   "id": "9828ec3f-61db-486e-a842-d3a71eb4594a",
   "metadata": {},
   "outputs": [],
   "source": [
    "def quick_sort(array, left, right):\n",
    "    # length = len(array)\n",
    "    \n",
    "    if left < right:\n",
    "        pivot = right\n",
    "        partition_index = partition(array, pivot, left, right)\n",
    "        \n",
    "        quick_sort(array, left, partition_index - 1)\n",
    "        quick_sort(array, partition_index + 1, right)\n",
    "    return array\n",
    "\n",
    "def partition(array, pivot, left, right):\n",
    "    pivot_value = array[pivot]\n",
    "    partition_index = left\n",
    "    \n",
    "    for i in range(left, right):\n",
    "        if array[i] < pivot_value:\n",
    "            array[i], array[partition_index] = array[partition_index], array[i]\n",
    "            partition_index += 1\n",
    "    \n",
    "    array[right], array[partition_index] = array[partition_index], array[right]\n",
    "    \n",
    "    return partition_index"
   ]
  },
  {
   "cell_type": "code",
   "execution_count": 24,
   "id": "0b0fe4fd-fe37-4cb4-affb-65bc3b1cf5c5",
   "metadata": {},
   "outputs": [
    {
     "data": {
      "text/plain": [
       "[0, 1, 2, 4, 5, 6, 44, 63, 87, 99, 283]"
      ]
     },
     "execution_count": 24,
     "metadata": {},
     "output_type": "execute_result"
    }
   ],
   "source": [
    "L = [99, 44, 6, 2, 1, 5, 63, 87, 283, 4, 0]\n",
    "quick_sort(L, 0, len(L)-1)"
   ]
  },
  {
   "cell_type": "markdown",
   "id": "6cb829c7-af49-4b58-8b35-7b63c55226dc",
   "metadata": {},
   "source": [
    "[Heap Sort](https://brilliant.org/wiki/heap-sort/)"
   ]
  },
  {
   "cell_type": "markdown",
   "id": "6391ae43-46d9-4e1a-b5c4-a64a15c7f4fd",
   "metadata": {},
   "source": [
    "### Exercise\n",
    "\n",
    "```Python\n",
    "#1 - Sort 10 schools around your house by distance:\n",
    "insertion sort\n",
    "\n",
    "#2 - eBay sorts listings by the current Bid amount:\n",
    "radix or counting sort\n",
    "\n",
    "#3 - Sort scores on ESPN\n",
    "Quick sort\n",
    "\n",
    "#4 - Massive database (can't fit all into memory) needs to sort through past year's user data\n",
    "Merge Sort\n",
    "\n",
    "#5 - Almost sorted Udemy review data needs to update and add 2 new reviews\n",
    "Insertion Sort\n",
    "\n",
    "#6 - Temperature Records for the past 50 years in Canada\n",
    "radix or counting Sort\n",
    "Quick sort if decimal places\n",
    "\n",
    "#7 - Large user name database needs to be sorted. Data is very random.\n",
    "Quick sort\n",
    "\n",
    "#8 - You want to teach sorting\n",
    "Bubble sort\n",
    "```"
   ]
  },
  {
   "cell_type": "code",
   "execution_count": null,
   "id": "3ee1501f-1669-4bdf-961d-5b3ae027be30",
   "metadata": {},
   "outputs": [],
   "source": []
  },
  {
   "cell_type": "code",
   "execution_count": null,
   "id": "3366a683-a347-42d0-a515-f54c750a032f",
   "metadata": {},
   "outputs": [],
   "source": []
  },
  {
   "cell_type": "code",
   "execution_count": null,
   "id": "5550d813-e830-4205-b4ff-1cecc8b4fffb",
   "metadata": {},
   "outputs": [],
   "source": []
  },
  {
   "cell_type": "code",
   "execution_count": null,
   "id": "695bef22-bc92-4592-b1c8-6fa4636faade",
   "metadata": {},
   "outputs": [],
   "source": []
  },
  {
   "cell_type": "code",
   "execution_count": null,
   "id": "3cf769d5-13b2-4241-9d74-608532a1575c",
   "metadata": {},
   "outputs": [],
   "source": []
  },
  {
   "cell_type": "code",
   "execution_count": null,
   "id": "8d6cddc3-7e69-4fbb-bf8f-cc68a9ada388",
   "metadata": {},
   "outputs": [],
   "source": []
  }
 ],
 "metadata": {
  "kernelspec": {
   "display_name": "AIML",
   "language": "python",
   "name": "aiml"
  },
  "language_info": {
   "codemirror_mode": {
    "name": "ipython",
    "version": 3
   },
   "file_extension": ".py",
   "mimetype": "text/x-python",
   "name": "python",
   "nbconvert_exporter": "python",
   "pygments_lexer": "ipython3",
   "version": "3.8.12"
  }
 },
 "nbformat": 4,
 "nbformat_minor": 5
}
