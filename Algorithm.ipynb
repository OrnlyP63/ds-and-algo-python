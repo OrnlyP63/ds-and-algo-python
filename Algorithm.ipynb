{
 "cells": [
  {
   "cell_type": "markdown",
   "id": "b15a1a10-953a-4bf9-a36d-54e5e789d7e5",
   "metadata": {},
   "source": [
    "# Algorithms"
   ]
  },
  {
   "cell_type": "markdown",
   "id": "d047c5ba-3432-44a9-874a-fa12a060ee52",
   "metadata": {},
   "source": [
    "## Recursion\n",
    "\n",
    "Anything you do with a recursion CAN be done iteratively (loop).\n",
    "\n",
    "Pros\n",
    "- Dry Readability\n",
    "\n",
    "Cons\n",
    "- Large Stack: $O(2^N)$\n",
    "\n",
    "### New Rule:\n",
    "\n",
    "**Everytime you are using a tree or converting somthing into a tree, consider recuresion**\n",
    "\n",
    "1. Divided into a number of subproblems that are smaller instances of the same problem.\n",
    "2. Each instance of the subproblem is identical in nature.\n",
    "3. The solutions of each subproblem can be combined to solve the problem at hand."
   ]
  },
  {
   "cell_type": "code",
   "execution_count": 1,
   "id": "1c351438-f863-4827-8c7b-506074934b7a",
   "metadata": {},
   "outputs": [],
   "source": [
    "def inception():\n",
    "    a = input('name: ')\n",
    "    print(f'hey {a}')\n",
    "    inception()"
   ]
  },
  {
   "cell_type": "code",
   "execution_count": 2,
   "id": "5fcf9060-086b-4b1b-adb2-02d3bcd5df93",
   "metadata": {},
   "outputs": [],
   "source": [
    "# inception()"
   ]
  },
  {
   "cell_type": "markdown",
   "id": "e958fd3a-e851-452e-b51f-93db690a0779",
   "metadata": {},
   "source": [
    "**Exercise:** Recursion-factorial"
   ]
  },
  {
   "cell_type": "code",
   "execution_count": 3,
   "id": "8c988391-01d6-4939-8531-bba777b4c464",
   "metadata": {},
   "outputs": [],
   "source": [
    "def find_factorial_iterative(number):\n",
    "    answer = 1\n",
    "    \n",
    "    if number < 2:\n",
    "        return number\n",
    "    \n",
    "    for i in range(2, number+1):\n",
    "        answer *= i\n",
    "        \n",
    "    return answer"
   ]
  },
  {
   "cell_type": "code",
   "execution_count": 4,
   "id": "d1a7b959-1f15-416f-be91-f7fae52e7158",
   "metadata": {},
   "outputs": [
    {
     "data": {
      "text/plain": [
       "120"
      ]
     },
     "execution_count": 4,
     "metadata": {},
     "output_type": "execute_result"
    }
   ],
   "source": [
    "find_factorial_iterative(5)"
   ]
  },
  {
   "cell_type": "code",
   "execution_count": 5,
   "id": "148e76c5-fac4-4241-a3c9-c68080717dca",
   "metadata": {},
   "outputs": [],
   "source": [
    "def find_factorial_recursive(number):\n",
    "    if number < 2:\n",
    "        return number\n",
    "    \n",
    "    return number * find_factorial_recursive(number-1)"
   ]
  },
  {
   "cell_type": "code",
   "execution_count": 6,
   "id": "f916601a-5c60-43fe-a6a9-b63298eb5eec",
   "metadata": {},
   "outputs": [
    {
     "data": {
      "text/plain": [
       "120"
      ]
     },
     "execution_count": 6,
     "metadata": {},
     "output_type": "execute_result"
    }
   ],
   "source": [
    "find_factorial_recursive(5)"
   ]
  },
  {
   "cell_type": "code",
   "execution_count": 7,
   "id": "fd0d977d-d5c5-438b-9c25-e9c60fb60298",
   "metadata": {},
   "outputs": [],
   "source": [
    "def fibonacci_iterative(n): # O(N)\n",
    "    f1, f2 = 0, 1\n",
    "    for _ in range(n):\n",
    "        f1, f2 = f2, f1+f2\n",
    "        \n",
    "    return f1"
   ]
  },
  {
   "cell_type": "code",
   "execution_count": 8,
   "id": "b4352cc7-e61c-487c-91c3-b6d764b3b143",
   "metadata": {},
   "outputs": [
    {
     "data": {
      "text/plain": [
       "55"
      ]
     },
     "execution_count": 8,
     "metadata": {},
     "output_type": "execute_result"
    }
   ],
   "source": [
    "fibonacci_iterative(10)"
   ]
  },
  {
   "cell_type": "code",
   "execution_count": 9,
   "id": "31c5490c-e4c0-4f84-a1c5-cd6783f5ee17",
   "metadata": {},
   "outputs": [],
   "source": [
    "def fibonacci_recursive(n): # O(2^N)\n",
    "    if (n < 2):\n",
    "        return n\n",
    "    \n",
    "    return fibonacci_recursive(n-1) + fibonacci_recursive(n-2)"
   ]
  },
  {
   "cell_type": "code",
   "execution_count": 10,
   "id": "febef42b-87ed-4adc-b4b9-6bd9ddbe88af",
   "metadata": {
    "tags": []
   },
   "outputs": [
    {
     "data": {
      "text/plain": [
       "55"
      ]
     },
     "execution_count": 10,
     "metadata": {},
     "output_type": "execute_result"
    }
   ],
   "source": [
    "fibonacci_recursive(10)"
   ]
  },
  {
   "cell_type": "code",
   "execution_count": 21,
   "id": "e8f16902-185c-44ab-9b21-4096bd4fc596",
   "metadata": {},
   "outputs": [],
   "source": [
    "def str_reverse(string):\n",
    "    if len(string) == 1:\n",
    "        return string\n",
    "\n",
    "    return string[-1]+str_reverse(string[:-1])"
   ]
  },
  {
   "cell_type": "code",
   "execution_count": 23,
   "id": "53e33b89-df53-4794-8a8c-28f119242665",
   "metadata": {},
   "outputs": [
    {
     "data": {
      "text/plain": [
       "'jihgfedcba'"
      ]
     },
     "execution_count": 23,
     "metadata": {},
     "output_type": "execute_result"
    }
   ],
   "source": [
    "str_reverse('abcdefghij')"
   ]
  },
  {
   "cell_type": "code",
   "execution_count": 24,
   "id": "93fce8e7-74bf-420b-af0b-4519105945d1",
   "metadata": {},
   "outputs": [
    {
     "data": {
      "text/plain": [
       "'yretsam oyoy'"
      ]
     },
     "execution_count": 24,
     "metadata": {},
     "output_type": "execute_result"
    }
   ],
   "source": [
    "str_reverse('yoyo mastery')"
   ]
  },
  {
   "cell_type": "markdown",
   "id": "e25d2d38-b79d-4398-ba37-fcd65cf61c29",
   "metadata": {},
   "source": [
    "## Sorting\n",
    "\n",
    "### Buble Sorting"
   ]
  },
  {
   "cell_type": "code",
   "execution_count": 33,
   "id": "a9621457-3dc7-4b56-867b-932b34131da4",
   "metadata": {},
   "outputs": [],
   "source": [
    "import random "
   ]
  },
  {
   "cell_type": "code",
   "execution_count": 40,
   "id": "cbb91e19-1a26-42eb-a2c7-0f98eaea7366",
   "metadata": {},
   "outputs": [],
   "source": [
    "L = list(range(100))\n",
    "random.shuffle(L)"
   ]
  },
  {
   "cell_type": "code",
   "execution_count": 41,
   "id": "5a49bc83-d893-466f-b1f5-cde29326aa5a",
   "metadata": {},
   "outputs": [
    {
     "data": {
      "text/plain": [
       "[63, 73, 22, 33, 94, 77, 82, 5, 16, 14]"
      ]
     },
     "execution_count": 41,
     "metadata": {},
     "output_type": "execute_result"
    }
   ],
   "source": [
    "L[:10]"
   ]
  },
  {
   "cell_type": "code",
   "execution_count": 42,
   "id": "11b1ef18-8e6e-427a-97fb-982df44baa66",
   "metadata": {},
   "outputs": [],
   "source": [
    "for i in range(10):\n",
    "    if L[i] > L[i+1]:\n",
    "        L[i], L[i+1] = L[i+1], L[i]"
   ]
  },
  {
   "cell_type": "code",
   "execution_count": 43,
   "id": "f60fdd63-f099-451e-b1e5-e9077d0a5ef9",
   "metadata": {},
   "outputs": [
    {
     "data": {
      "text/plain": [
       "[63,\n",
       " 22,\n",
       " 33,\n",
       " 73,\n",
       " 77,\n",
       " 82,\n",
       " 5,\n",
       " 16,\n",
       " 14,\n",
       " 34,\n",
       " 94,\n",
       " 45,\n",
       " 44,\n",
       " 53,\n",
       " 39,\n",
       " 1,\n",
       " 60,\n",
       " 79,\n",
       " 41,\n",
       " 92,\n",
       " 57,\n",
       " 46,\n",
       " 31,\n",
       " 97,\n",
       " 3,\n",
       " 10,\n",
       " 6,\n",
       " 9,\n",
       " 7,\n",
       " 35,\n",
       " 43,\n",
       " 84,\n",
       " 36,\n",
       " 51,\n",
       " 29,\n",
       " 99,\n",
       " 12,\n",
       " 52,\n",
       " 61,\n",
       " 25,\n",
       " 81,\n",
       " 49,\n",
       " 90,\n",
       " 38,\n",
       " 87,\n",
       " 86,\n",
       " 68,\n",
       " 74,\n",
       " 96,\n",
       " 54,\n",
       " 15,\n",
       " 37,\n",
       " 18,\n",
       " 58,\n",
       " 88,\n",
       " 27,\n",
       " 47,\n",
       " 71,\n",
       " 95,\n",
       " 23,\n",
       " 85,\n",
       " 4,\n",
       " 89,\n",
       " 78,\n",
       " 40,\n",
       " 48,\n",
       " 91,\n",
       " 75,\n",
       " 17,\n",
       " 67,\n",
       " 28,\n",
       " 65,\n",
       " 19,\n",
       " 13,\n",
       " 69,\n",
       " 2,\n",
       " 50,\n",
       " 80,\n",
       " 64,\n",
       " 11,\n",
       " 83,\n",
       " 56,\n",
       " 20,\n",
       " 62,\n",
       " 76,\n",
       " 70,\n",
       " 0,\n",
       " 59,\n",
       " 8,\n",
       " 93,\n",
       " 32,\n",
       " 66,\n",
       " 55,\n",
       " 98,\n",
       " 26,\n",
       " 21,\n",
       " 72,\n",
       " 30,\n",
       " 24,\n",
       " 42]"
      ]
     },
     "execution_count": 43,
     "metadata": {},
     "output_type": "execute_result"
    }
   ],
   "source": [
    "L"
   ]
  },
  {
   "cell_type": "code",
   "execution_count": null,
   "id": "606544bd-9d41-4e5b-a8ae-3a0d36f9d090",
   "metadata": {},
   "outputs": [],
   "source": []
  },
  {
   "cell_type": "code",
   "execution_count": null,
   "id": "011278d6-13bc-47c3-a460-f87c80e28ce1",
   "metadata": {},
   "outputs": [],
   "source": []
  },
  {
   "cell_type": "code",
   "execution_count": null,
   "id": "ae052a79-8476-4c7b-a84d-631c1bd5f23c",
   "metadata": {},
   "outputs": [],
   "source": []
  },
  {
   "cell_type": "code",
   "execution_count": null,
   "id": "cba092fa-f155-4bfb-be58-5f84ac03153b",
   "metadata": {},
   "outputs": [],
   "source": []
  },
  {
   "cell_type": "code",
   "execution_count": null,
   "id": "85c75f4e-d283-4c9d-9d36-3d7023ae17a9",
   "metadata": {},
   "outputs": [],
   "source": []
  },
  {
   "cell_type": "code",
   "execution_count": null,
   "id": "777e1e29-f91d-430f-9046-dc3473a24666",
   "metadata": {},
   "outputs": [],
   "source": []
  },
  {
   "cell_type": "code",
   "execution_count": null,
   "id": "f98ac217-1bd0-41a6-8146-1f89b1821735",
   "metadata": {},
   "outputs": [],
   "source": []
  },
  {
   "cell_type": "code",
   "execution_count": null,
   "id": "ebc5557b-7ccc-4069-b888-573af53f74c3",
   "metadata": {},
   "outputs": [],
   "source": []
  },
  {
   "cell_type": "code",
   "execution_count": null,
   "id": "695bef22-bc92-4592-b1c8-6fa4636faade",
   "metadata": {},
   "outputs": [],
   "source": []
  },
  {
   "cell_type": "code",
   "execution_count": null,
   "id": "3cf769d5-13b2-4241-9d74-608532a1575c",
   "metadata": {},
   "outputs": [],
   "source": []
  },
  {
   "cell_type": "code",
   "execution_count": null,
   "id": "8d6cddc3-7e69-4fbb-bf8f-cc68a9ada388",
   "metadata": {},
   "outputs": [],
   "source": []
  }
 ],
 "metadata": {
  "kernelspec": {
   "display_name": "AIML",
   "language": "python",
   "name": "aiml"
  },
  "language_info": {
   "codemirror_mode": {
    "name": "ipython",
    "version": 3
   },
   "file_extension": ".py",
   "mimetype": "text/x-python",
   "name": "python",
   "nbconvert_exporter": "python",
   "pygments_lexer": "ipython3",
   "version": "3.8.12"
  }
 },
 "nbformat": 4,
 "nbformat_minor": 5
}
