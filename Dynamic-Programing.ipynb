{
 "cells": [
  {
   "cell_type": "markdown",
   "id": "7992bd70-1190-4b5e-ad43-fd81372fc537",
   "metadata": {},
   "source": [
    "# Dynamic Programing\n",
    "\n",
    "It is an optimization techinique. Do you have something you can cache?"
   ]
  },
  {
   "cell_type": "markdown",
   "id": "83293fc7-5fd3-47d0-9ba4-11f26c11d80b",
   "metadata": {},
   "source": [
    "## Memorization ~ Caching\n",
    "\n",
    "1. Can be divided into subproblem\n",
    "2. Recursive Solution\n",
    "3. Are there repetitive subprobelms?\n",
    "4. Memorize subprobelms\n",
    "5. Demand a raise from your boss"
   ]
  },
  {
   "cell_type": "code",
   "execution_count": 1,
   "id": "7e0f05f5-5010-432c-9d82-de2fdf43c789",
   "metadata": {},
   "outputs": [],
   "source": [
    "def add_to_80(n):\n",
    "    return n + 80"
   ]
  },
  {
   "cell_type": "code",
   "execution_count": 2,
   "id": "865e6d3a-1e1f-49a7-aecc-5bae1e9df1e4",
   "metadata": {},
   "outputs": [
    {
     "name": "stdout",
     "output_type": "stream",
     "text": [
      "85\n",
      "85\n",
      "85\n",
      "85\n",
      "85\n",
      "85\n",
      "85\n",
      "85\n",
      "85\n",
      "85\n"
     ]
    }
   ],
   "source": [
    "for _ in range(10):\n",
    "    print(add_to_80(5))"
   ]
  },
  {
   "cell_type": "code",
   "execution_count": 3,
   "id": "1e3bb621-3566-4c5b-b5c3-72038564694f",
   "metadata": {},
   "outputs": [],
   "source": [
    "cache = {}\n",
    "def memorized_add_to_80(n):\n",
    "    if n in cache:\n",
    "        return cache[n]\n",
    "    else:\n",
    "        print('long time')\n",
    "        cache[n] = 80 + n\n",
    "        return cache[n]"
   ]
  },
  {
   "cell_type": "code",
   "execution_count": 4,
   "id": "11611cd4-0493-4a1f-affa-b8abe5d721f7",
   "metadata": {},
   "outputs": [
    {
     "name": "stdout",
     "output_type": "stream",
     "text": [
      "long time\n",
      "85\n",
      "85\n",
      "85\n",
      "85\n",
      "85\n",
      "85\n",
      "85\n",
      "85\n",
      "85\n",
      "85\n"
     ]
    }
   ],
   "source": [
    "for _ in range(10):\n",
    "    print(memorized_add_to_80(5))"
   ]
  },
  {
   "cell_type": "code",
   "execution_count": 5,
   "id": "629c7a7e-1bdc-4524-8dce-e23c41022bbf",
   "metadata": {},
   "outputs": [],
   "source": [
    "from functools import lru_cache"
   ]
  },
  {
   "cell_type": "code",
   "execution_count": 6,
   "id": "dd244d5d-4ec9-42ce-a097-5cba073a5ff1",
   "metadata": {},
   "outputs": [],
   "source": [
    "@lru_cache(maxsize=1000)\n",
    "def lru_cache_add_to_80(n):\n",
    "    return n + 80"
   ]
  },
  {
   "cell_type": "code",
   "execution_count": 7,
   "id": "2aef78a5-aab0-4bf0-b16d-5525ac4f74cb",
   "metadata": {},
   "outputs": [
    {
     "name": "stdout",
     "output_type": "stream",
     "text": [
      "80\n",
      "81\n",
      "82\n",
      "83\n",
      "84\n",
      "85\n",
      "86\n",
      "87\n",
      "88\n",
      "89\n"
     ]
    }
   ],
   "source": [
    "for i in range(10):\n",
    "    print(lru_cache_add_to_80(i))"
   ]
  },
  {
   "cell_type": "code",
   "execution_count": 12,
   "id": "eac65c14-14ce-4cc1-900f-ae269858ccfe",
   "metadata": {},
   "outputs": [],
   "source": [
    "def fibonacci(n):# O(2^n)\n",
    "    if n < 2:\n",
    "        return n\n",
    "    return fibonacci(n-1) + fibonacci(n-2)"
   ]
  },
  {
   "cell_type": "code",
   "execution_count": 13,
   "id": "791a8c96-3967-4dad-8ca2-c13140171123",
   "metadata": {},
   "outputs": [
    {
     "data": {
      "text/plain": [
       "8"
      ]
     },
     "execution_count": 13,
     "metadata": {},
     "output_type": "execute_result"
    }
   ],
   "source": [
    "fibonacci(6)"
   ]
  },
  {
   "cell_type": "code",
   "execution_count": 14,
   "id": "2f468c92-6f1d-457f-8a97-771947dd018e",
   "metadata": {},
   "outputs": [],
   "source": [
    "cache = {}\n",
    "\n",
    "def dynamic_fibonacci(n): #O(n)\n",
    "    \n",
    "    if n in cache:\n",
    "        return cache[n]\n",
    "    \n",
    "    else:\n",
    "        if n < 2:\n",
    "            return n\n",
    "        \n",
    "        cache[n] = dynamic_fibonacci(n-1) + dynamic_fibonacci(n-2)\n",
    "        return cache[n]"
   ]
  },
  {
   "cell_type": "code",
   "execution_count": 15,
   "id": "c421982d-070b-4df4-8675-aaa2810671a8",
   "metadata": {},
   "outputs": [
    {
     "data": {
      "text/plain": [
       "43466557686937456435688527675040625802564660517371780402481729089536555417949051890403879840079255169295922593080322634775209689623239873322471161642996440906533187938298969649928516003704476137795166849228875"
      ]
     },
     "execution_count": 15,
     "metadata": {},
     "output_type": "execute_result"
    }
   ],
   "source": [
    "dynamic_fibonacci(1000)"
   ]
  },
  {
   "cell_type": "code",
   "execution_count": null,
   "id": "305066fd-867d-494a-9cd3-ba262bcb51c1",
   "metadata": {},
   "outputs": [],
   "source": []
  }
 ],
 "metadata": {
  "kernelspec": {
   "display_name": "AIML",
   "language": "python",
   "name": "aiml"
  },
  "language_info": {
   "codemirror_mode": {
    "name": "ipython",
    "version": 3
   },
   "file_extension": ".py",
   "mimetype": "text/x-python",
   "name": "python",
   "nbconvert_exporter": "python",
   "pygments_lexer": "ipython3",
   "version": "3.8.12"
  }
 },
 "nbformat": 4,
 "nbformat_minor": 5
}
