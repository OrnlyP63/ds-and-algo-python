{
 "cells": [
  {
   "cell_type": "markdown",
   "id": "347089e7-3493-446c-bd3c-e61880ea6b98",
   "metadata": {},
   "source": [
    "## Stacks + Queues\n",
    "\n",
    "### Stacks\n",
    "|Operator|Big O|\n",
    "|-|-|\n",
    "|lookup|$O(n)$|\n",
    "|pop|$O(1)$|\n",
    "|push|$O(1)$|\n",
    "|peek|$O(1)$|\n",
    "\n",
    "### Queues - FIFO\n",
    "|Operator|Big O|\n",
    "|-|-|\n",
    "|lookup|$O(n)$|\n",
    "|enqueue|$O(1)$|\n",
    "|dequeue|$O(1)$|\n",
    "|peek|$O(1)$|\n",
    "\n",
    "Pros: Fast Operations, Fast Peek, Ordered\n",
    "\n",
    "Cons: Slow Lookup"
   ]
  },
  {
   "cell_type": "code",
   "execution_count": 1,
   "id": "6bb2bfb8-1805-4ea5-b484-ca24bf9a1c83",
   "metadata": {},
   "outputs": [],
   "source": [
    "class Node:\n",
    "    def __init__(self, value):\n",
    "        self.value = value\n",
    "        self.next = None"
   ]
  },
  {
   "cell_type": "code",
   "execution_count": 2,
   "id": "a978f622-4278-42c3-9b4e-6762dc693b11",
   "metadata": {},
   "outputs": [],
   "source": [
    "class Stack:\n",
    "    def __init__(self):\n",
    "        self.top = None\n",
    "        self.bottom = None\n",
    "        self.length = 0\n",
    "        \n",
    "    def peek(self):\n",
    "        return self.top\n",
    "    \n",
    "    def push(self, value):\n",
    "        new_node = Node(value=value)\n",
    "        \n",
    "        if self.length == 0:\n",
    "            self.top = new_node\n",
    "            self.bottom = new_node\n",
    "        else:\n",
    "            holding_pointer = self.top\n",
    "            self.top = new_node\n",
    "            self.top.next = holding_pointer\n",
    "            \n",
    "        self.length += 1\n",
    "        return self.return_list()\n",
    "        \n",
    "    \n",
    "    def pop(self):\n",
    "        if self.top is None:\n",
    "            return None\n",
    "        else:\n",
    "            holding_pointer = self.top\n",
    "            self.top = self.top.next\n",
    "            self.length -= 1\n",
    "            \n",
    "            return holding_pointer\n",
    "    \n",
    "    def return_list(self):\n",
    "        link_list = []\n",
    "        current_node = self.top\n",
    "        for _ in range(self.length):\n",
    "            link_list.append(current_node.value)\n",
    "            current_node = current_node.next\n",
    "        return link_list"
   ]
  },
  {
   "cell_type": "code",
   "execution_count": 3,
   "id": "ea08d9af-895c-4203-aa9d-3426a5a12611",
   "metadata": {},
   "outputs": [
    {
     "data": {
      "text/plain": [
       "['discord', 'udemy', 'google']"
      ]
     },
     "execution_count": 3,
     "metadata": {},
     "output_type": "execute_result"
    }
   ],
   "source": [
    "stack = Stack()\n",
    "stack.push('google')\n",
    "stack.push('udemy')\n",
    "stack.push('discord')"
   ]
  },
  {
   "cell_type": "code",
   "execution_count": 4,
   "id": "76061c6a-1a60-4923-a167-ddaa25a0a81e",
   "metadata": {},
   "outputs": [
    {
     "data": {
      "text/plain": [
       "'discord'"
      ]
     },
     "execution_count": 4,
     "metadata": {},
     "output_type": "execute_result"
    }
   ],
   "source": [
    "stack.peek().value"
   ]
  },
  {
   "cell_type": "code",
   "execution_count": 5,
   "id": "cc2a08b2-b6b9-4c85-a60f-5b3c3d8c6fd5",
   "metadata": {},
   "outputs": [
    {
     "data": {
      "text/plain": [
       "['discord', 'udemy', 'google']"
      ]
     },
     "execution_count": 5,
     "metadata": {},
     "output_type": "execute_result"
    }
   ],
   "source": [
    "stack.return_list()"
   ]
  },
  {
   "cell_type": "code",
   "execution_count": 6,
   "id": "57520a2d-6d43-4b97-854b-99ce31b85296",
   "metadata": {},
   "outputs": [
    {
     "data": {
      "text/plain": [
       "'discord'"
      ]
     },
     "execution_count": 6,
     "metadata": {},
     "output_type": "execute_result"
    }
   ],
   "source": [
    "stack.pop().value"
   ]
  },
  {
   "cell_type": "code",
   "execution_count": 7,
   "id": "88b0ddc6-28b3-48f7-8ebc-0ec56ba5bb10",
   "metadata": {},
   "outputs": [
    {
     "data": {
      "text/plain": [
       "['udemy', 'google']"
      ]
     },
     "execution_count": 7,
     "metadata": {},
     "output_type": "execute_result"
    }
   ],
   "source": [
    "stack.return_list()"
   ]
  },
  {
   "cell_type": "code",
   "execution_count": 8,
   "id": "ea0a5c33-8a67-4729-a7b5-df28dabd3305",
   "metadata": {},
   "outputs": [],
   "source": [
    "class StackArray:\n",
    "    def __init__(self):\n",
    "        self.array = []\n",
    "        \n",
    "    def peek(self):\n",
    "        return self.array[len(self.array)-1]\n",
    "    \n",
    "    def push(self, value):\n",
    "        self.array.append(value)\n",
    "        return self.return_list()\n",
    "        \n",
    "    \n",
    "    def pop(self):\n",
    "        holding_pointer = self.array.pop()\n",
    "        return holding_pointer\n",
    "    \n",
    "    def return_list(self):\n",
    "        return self.array"
   ]
  },
  {
   "cell_type": "code",
   "execution_count": 9,
   "id": "f6f238ad-75ae-495b-9c5f-54f81421585d",
   "metadata": {},
   "outputs": [
    {
     "data": {
      "text/plain": [
       "['google', 'udemy', 'discord']"
      ]
     },
     "execution_count": 9,
     "metadata": {},
     "output_type": "execute_result"
    }
   ],
   "source": [
    "stack = StackArray()\n",
    "stack.push('google')\n",
    "stack.push('udemy')\n",
    "stack.push('discord')"
   ]
  },
  {
   "cell_type": "code",
   "execution_count": 10,
   "id": "5290570f-a719-4565-8cd5-9d79a270bca5",
   "metadata": {},
   "outputs": [
    {
     "data": {
      "text/plain": [
       "'discord'"
      ]
     },
     "execution_count": 10,
     "metadata": {},
     "output_type": "execute_result"
    }
   ],
   "source": [
    "stack.peek()"
   ]
  },
  {
   "cell_type": "code",
   "execution_count": 11,
   "id": "50c36882-e293-4660-ad5a-483b3f2478e6",
   "metadata": {},
   "outputs": [
    {
     "data": {
      "text/plain": [
       "['google', 'udemy', 'discord']"
      ]
     },
     "execution_count": 11,
     "metadata": {},
     "output_type": "execute_result"
    }
   ],
   "source": [
    "stack.return_list()"
   ]
  },
  {
   "cell_type": "code",
   "execution_count": 12,
   "id": "c5a3611b-52b5-4858-bc6f-662df21e9611",
   "metadata": {},
   "outputs": [
    {
     "data": {
      "text/plain": [
       "'discord'"
      ]
     },
     "execution_count": 12,
     "metadata": {},
     "output_type": "execute_result"
    }
   ],
   "source": [
    "stack.pop()"
   ]
  },
  {
   "cell_type": "code",
   "execution_count": 13,
   "id": "e1c4c5c7-3dc2-4ebd-9c9b-79936460d01b",
   "metadata": {},
   "outputs": [
    {
     "data": {
      "text/plain": [
       "['google', 'udemy']"
      ]
     },
     "execution_count": 13,
     "metadata": {},
     "output_type": "execute_result"
    }
   ],
   "source": [
    "stack.return_list()"
   ]
  },
  {
   "cell_type": "code",
   "execution_count": 14,
   "id": "892299d4-fd5a-4e2a-bbd4-153847551f95",
   "metadata": {},
   "outputs": [],
   "source": [
    "class Queue:\n",
    "    def __init__(self):\n",
    "        self.first = None\n",
    "        self.last = None\n",
    "        self.length = 0\n",
    "        \n",
    "    def peek(self):\n",
    "        return self.first\n",
    "    \n",
    "    def enqueue(self, value):\n",
    "        new_node = Node(value=value)\n",
    "        \n",
    "        if self.length == 0:\n",
    "            self.first = new_node\n",
    "            self.last = new_node\n",
    "        else:\n",
    "            self.last.next = new_node\n",
    "            self.last = new_node\n",
    "            \n",
    "        self.length += 1\n",
    "        return self.return_list()\n",
    "        \n",
    "    \n",
    "    def dequeue(self):\n",
    "        if self.first is None:\n",
    "            return None\n",
    "        \n",
    "        if self.first == self.last:\n",
    "            self.last = None\n",
    "        \n",
    "        holding_pointer = self.first\n",
    "        self.first = self.first.next\n",
    "        self.length -= 1\n",
    "            \n",
    "        return holding_pointer\n",
    "    \n",
    "    def return_list(self):\n",
    "        link_list = []\n",
    "        current_node = self.first\n",
    "        for _ in range(self.length):\n",
    "            link_list.append(current_node.value)\n",
    "            current_node = current_node.next\n",
    "        return link_list"
   ]
  },
  {
   "cell_type": "code",
   "execution_count": 15,
   "id": "15c5e550-c5ac-40cd-818c-0b82c0500834",
   "metadata": {},
   "outputs": [
    {
     "data": {
      "text/plain": [
       "['Joy', 'Matt', 'Pavel', 'Samir']"
      ]
     },
     "execution_count": 15,
     "metadata": {},
     "output_type": "execute_result"
    }
   ],
   "source": [
    "queue = Queue()\n",
    "queue.enqueue('Joy')\n",
    "queue.enqueue('Matt')\n",
    "queue.enqueue('Pavel')\n",
    "queue.enqueue('Samir')"
   ]
  },
  {
   "cell_type": "code",
   "execution_count": 16,
   "id": "cb86c452-9bfa-4686-b403-390c26c3b366",
   "metadata": {},
   "outputs": [
    {
     "data": {
      "text/plain": [
       "'Joy'"
      ]
     },
     "execution_count": 16,
     "metadata": {},
     "output_type": "execute_result"
    }
   ],
   "source": [
    "queue.peek().value"
   ]
  },
  {
   "cell_type": "code",
   "execution_count": 17,
   "id": "a56b34d1-1ef7-4c67-b328-176ea2106919",
   "metadata": {},
   "outputs": [
    {
     "data": {
      "text/plain": [
       "['Joy', 'Matt', 'Pavel', 'Samir']"
      ]
     },
     "execution_count": 17,
     "metadata": {},
     "output_type": "execute_result"
    }
   ],
   "source": [
    "queue.return_list()"
   ]
  },
  {
   "cell_type": "code",
   "execution_count": 18,
   "id": "4af0e6c1-f90b-4387-8159-f582dd8c7726",
   "metadata": {},
   "outputs": [
    {
     "data": {
      "text/plain": [
       "'Joy'"
      ]
     },
     "execution_count": 18,
     "metadata": {},
     "output_type": "execute_result"
    }
   ],
   "source": [
    "queue.dequeue().value"
   ]
  },
  {
   "cell_type": "code",
   "execution_count": 19,
   "id": "947c9f40-c465-47b8-b9dc-0800bc49e688",
   "metadata": {},
   "outputs": [
    {
     "data": {
      "text/plain": [
       "['Matt', 'Pavel', 'Samir']"
      ]
     },
     "execution_count": 19,
     "metadata": {},
     "output_type": "execute_result"
    }
   ],
   "source": [
    "queue.return_list()"
   ]
  },
  {
   "cell_type": "markdown",
   "id": "0ac6e6d8-1ec6-4f96-8d4d-05582c9263e2",
   "metadata": {},
   "source": [
    "## Trees\n",
    "|Operator|Big O|\n",
    "|---|---|\n",
    "|lookup|O(log(N))|\n",
    "|insert|O(log(N))|\n",
    "|delete|O(log(N))|\n",
    "\n",
    "\n",
    "Hierarchical structure:\n",
    "- Root\n",
    "- Parent\n",
    "- Child\n",
    "- Leaf\n",
    "- Sibling\n",
    "\n",
    "### Binary Tree\n",
    "\n",
    "Each parent node has just two children. \n",
    "number of nodes $= 2^h - 1$\n",
    "\n",
    "Pros: Better than $O(n)$, Ordered, Flexible Size\n",
    "\n",
    "Cons: No $O(1)$ operations"
   ]
  },
  {
   "cell_type": "code",
   "execution_count": 95,
   "id": "06ce9813-e666-46c5-9562-6ae3f983d868",
   "metadata": {},
   "outputs": [],
   "source": [
    "class BinaryTreeNode:\n",
    "    def __init__(self, value):\n",
    "        self.value = value\n",
    "        self.left = None\n",
    "        self.right = None\n",
    "\n",
    "class BinarySearchTree:\n",
    "    def __init__(self):\n",
    "        self.root = None\n",
    "        \n",
    "    def insert(self, value):\n",
    "        new_node = BinaryTreeNode(value)\n",
    "        if self.root is None:\n",
    "            self.root = new_node\n",
    "        else:\n",
    "            current_node = self.root\n",
    "            while True:\n",
    "                if value < current_node.value:\n",
    "                    # Lefe\n",
    "                    if current_node.left is None:\n",
    "                        current_node.left = new_node\n",
    "                        break\n",
    "                    \n",
    "                    current_node = current_node.left\n",
    "                else:\n",
    "                    # Rigth\n",
    "                    if current_node.right is None:\n",
    "                        current_node.right = new_node\n",
    "                        break\n",
    "                    current_node = current_node.right\n",
    "                    \n",
    "    def lookup(self,value):\n",
    "        if self.root is None:\n",
    "            return BinaryTreeNode(None)\n",
    "        current_node = self.root\n",
    "        \n",
    "        while current_node is not None:\n",
    "            \n",
    "            if value < current_node.value:\n",
    "                current_node = current_node.left\n",
    "                \n",
    "            elif value > current_node.value:\n",
    "                current_node = current_node.right\n",
    "                \n",
    "            elif value == current_node.value:\n",
    "                return current_node\n",
    "            \n",
    "        return BinaryTreeNode(None)\n",
    "    \n",
    "    def remove(self, value):\n",
    "        pass"
   ]
  },
  {
   "cell_type": "code",
   "execution_count": 96,
   "id": "7a1d3f19-d734-430f-afaf-32e28392170d",
   "metadata": {},
   "outputs": [],
   "source": [
    "def traverse(node, p = 'root'):\n",
    "    tree = {p: node.value}\n",
    "    print(tree)\n",
    "    if node.left is None:\n",
    "        tree['left'] = None\n",
    "    else:\n",
    "        traverse(node.left, 'left')\n",
    "        \n",
    "    if node.right is None:\n",
    "        tree['right'] = None\n",
    "    else:\n",
    "        traverse(node.right, 'right')\n",
    "    \n",
    "    return tree"
   ]
  },
  {
   "cell_type": "code",
   "execution_count": 97,
   "id": "d7e541db-2fd1-41f5-96a1-25da9b6a0761",
   "metadata": {},
   "outputs": [],
   "source": [
    "tree = BinarySearchTree()\n",
    "\n",
    "tree.insert(9)\n",
    "tree.insert(4)\n",
    "tree.insert(6)\n",
    "tree.insert(20)\n",
    "tree.insert(170)\n",
    "tree.insert(15)\n",
    "tree.insert(1)"
   ]
  },
  {
   "cell_type": "code",
   "execution_count": 98,
   "id": "926205ff-f1d9-4b60-afbe-9a1ba6ba2af1",
   "metadata": {},
   "outputs": [
    {
     "data": {
      "text/plain": [
       "6"
      ]
     },
     "execution_count": 98,
     "metadata": {},
     "output_type": "execute_result"
    }
   ],
   "source": [
    "tree.lookup(6).value"
   ]
  },
  {
   "cell_type": "code",
   "execution_count": 100,
   "id": "0479a432-d0c2-4cc3-a76e-2665e72fa9dd",
   "metadata": {},
   "outputs": [],
   "source": [
    "tree.lookup(90).value"
   ]
  },
  {
   "cell_type": "code",
   "execution_count": null,
   "id": "c44081ec-37af-4d21-91e3-d2fa99f3f6a2",
   "metadata": {},
   "outputs": [],
   "source": []
  },
  {
   "cell_type": "code",
   "execution_count": null,
   "id": "665daa83-6ac3-46f0-aa3c-b5c509828a92",
   "metadata": {},
   "outputs": [],
   "source": []
  },
  {
   "cell_type": "code",
   "execution_count": null,
   "id": "19d4eed8-2d98-48b8-be04-681b5bb68139",
   "metadata": {},
   "outputs": [],
   "source": []
  },
  {
   "cell_type": "code",
   "execution_count": null,
   "id": "3be40c0f-0e37-43d1-9a4b-7240a4e9d09f",
   "metadata": {},
   "outputs": [],
   "source": []
  },
  {
   "cell_type": "code",
   "execution_count": null,
   "id": "e0e04b63-e321-4f0c-b8af-b6d66d36a80f",
   "metadata": {},
   "outputs": [],
   "source": []
  }
 ],
 "metadata": {
  "kernelspec": {
   "display_name": "AIML",
   "language": "python",
   "name": "aiml"
  },
  "language_info": {
   "codemirror_mode": {
    "name": "ipython",
    "version": 3
   },
   "file_extension": ".py",
   "mimetype": "text/x-python",
   "name": "python",
   "nbconvert_exporter": "python",
   "pygments_lexer": "ipython3",
   "version": "3.8.12"
  }
 },
 "nbformat": 4,
 "nbformat_minor": 5
}
