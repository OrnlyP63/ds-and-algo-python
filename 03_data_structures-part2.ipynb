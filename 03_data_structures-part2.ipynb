{
 "cells": [
  {
   "cell_type": "markdown",
   "id": "347089e7-3493-446c-bd3c-e61880ea6b98",
   "metadata": {},
   "source": [
    "## Stacks + Queues\n",
    "\n",
    "### Stacks\n",
    "|Operator|Big O|\n",
    "|-|-|\n",
    "|lookup|$O(n)$|\n",
    "|pop|$O(1)$|\n",
    "|push|$O(1)$|\n",
    "|peek|$O(1)$|\n",
    "\n",
    "### Queues - FIFO\n",
    "|Operator|Big O|\n",
    "|-|-|\n",
    "|lookup|$O(n)$|\n",
    "|enqueue|$O(1)$|\n",
    "|dequeue|$O(1)$|\n",
    "|peek|$O(1)$|"
   ]
  },
  {
   "cell_type": "code",
   "execution_count": 1,
   "id": "6bb2bfb8-1805-4ea5-b484-ca24bf9a1c83",
   "metadata": {},
   "outputs": [],
   "source": [
    "class Node:\n",
    "    def __init__(self, value):\n",
    "        self.value = value\n",
    "        self.next = None"
   ]
  },
  {
   "cell_type": "code",
   "execution_count": null,
   "id": "a978f622-4278-42c3-9b4e-6762dc693b11",
   "metadata": {},
   "outputs": [],
   "source": [
    "class Stack:\n",
    "    def __init__(self):\n",
    "        self.top = None\n",
    "        self.bottom = None\n",
    "        self.length = 0\n",
    "        \n",
    "    "
   ]
  },
  {
   "cell_type": "code",
   "execution_count": null,
   "id": "ea08d9af-895c-4203-aa9d-3426a5a12611",
   "metadata": {},
   "outputs": [],
   "source": []
  },
  {
   "cell_type": "code",
   "execution_count": null,
   "id": "76061c6a-1a60-4923-a167-ddaa25a0a81e",
   "metadata": {},
   "outputs": [],
   "source": []
  },
  {
   "cell_type": "code",
   "execution_count": null,
   "id": "9b30e3a9-8863-4a10-8cc5-17d7188ba078",
   "metadata": {},
   "outputs": [],
   "source": []
  },
  {
   "cell_type": "code",
   "execution_count": null,
   "id": "57520a2d-6d43-4b97-854b-99ce31b85296",
   "metadata": {},
   "outputs": [],
   "source": []
  },
  {
   "cell_type": "code",
   "execution_count": null,
   "id": "88b0ddc6-28b3-48f7-8ebc-0ec56ba5bb10",
   "metadata": {},
   "outputs": [],
   "source": []
  },
  {
   "cell_type": "code",
   "execution_count": null,
   "id": "ea0a5c33-8a67-4729-a7b5-df28dabd3305",
   "metadata": {},
   "outputs": [],
   "source": []
  },
  {
   "cell_type": "code",
   "execution_count": null,
   "id": "2eae9418-8660-4e95-8e00-0e1ce827fafd",
   "metadata": {},
   "outputs": [],
   "source": []
  },
  {
   "cell_type": "code",
   "execution_count": null,
   "id": "cb86c452-9bfa-4686-b403-390c26c3b366",
   "metadata": {},
   "outputs": [],
   "source": []
  },
  {
   "cell_type": "code",
   "execution_count": null,
   "id": "4af0e6c1-f90b-4387-8159-f582dd8c7726",
   "metadata": {},
   "outputs": [],
   "source": []
  },
  {
   "cell_type": "code",
   "execution_count": null,
   "id": "947c9f40-c465-47b8-b9dc-0800bc49e688",
   "metadata": {},
   "outputs": [],
   "source": []
  },
  {
   "cell_type": "code",
   "execution_count": null,
   "id": "d25763c3-f38d-4be6-8ad4-5bafdbe1804c",
   "metadata": {},
   "outputs": [],
   "source": []
  },
  {
   "cell_type": "code",
   "execution_count": null,
   "id": "06ce9813-e666-46c5-9562-6ae3f983d868",
   "metadata": {},
   "outputs": [],
   "source": []
  },
  {
   "cell_type": "code",
   "execution_count": null,
   "id": "d7e541db-2fd1-41f5-96a1-25da9b6a0761",
   "metadata": {},
   "outputs": [],
   "source": []
  },
  {
   "cell_type": "code",
   "execution_count": null,
   "id": "7a1d3f19-d734-430f-afaf-32e28392170d",
   "metadata": {},
   "outputs": [],
   "source": []
  },
  {
   "cell_type": "code",
   "execution_count": null,
   "id": "f6a422b4-e4f6-4cca-834f-01334b2047b3",
   "metadata": {},
   "outputs": [],
   "source": []
  },
  {
   "cell_type": "code",
   "execution_count": null,
   "id": "b3448c0e-2b04-487d-98af-6fb9fe1b242a",
   "metadata": {},
   "outputs": [],
   "source": []
  }
 ],
 "metadata": {
  "kernelspec": {
   "display_name": "AIML",
   "language": "python",
   "name": "aiml"
  },
  "language_info": {
   "codemirror_mode": {
    "name": "ipython",
    "version": 3
   },
   "file_extension": ".py",
   "mimetype": "text/x-python",
   "name": "python",
   "nbconvert_exporter": "python",
   "pygments_lexer": "ipython3",
   "version": "3.8.12"
  }
 },
 "nbformat": 4,
 "nbformat_minor": 5
}
