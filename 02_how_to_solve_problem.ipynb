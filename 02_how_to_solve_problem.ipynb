{
 "cells": [
  {
   "cell_type": "markdown",
   "id": "b51986f9-32fe-428c-b95c-485456205a18",
   "metadata": {},
   "source": [
    "# How to solve problem"
   ]
  },
  {
   "cell_type": "markdown",
   "id": "e2916454-2d06-4a33-a588-f9e0ad82460f",
   "metadata": {},
   "source": [
    "## What are companies looking for?\n",
    "- Analytic Skills\n",
    "- Coding Skills\n",
    "- Technical Skills\n",
    "- Communication Skills"
   ]
  },
  {
   "cell_type": "markdown",
   "id": "2f5b87b4-b4c5-4648-9dca-ddcc7376c70d",
   "metadata": {},
   "source": [
    "## What we need for coding interview:\n",
    "- Data Structures\n",
    "    - Arrays\n",
    "    - Stacks\n",
    "    - Queues\n",
    "    - Linked List\n",
    "    - Trees\n",
    "    - Tries\n",
    "    - Graphs\n",
    "    - Hash Tables\n",
    "- Algorithms\n",
    "    - Sorting\n",
    "    - Dynamic Programing\n",
    "    - BFS + DFS (Searching)\n",
    "    - Recursion"
   ]
  },
  {
   "cell_type": "markdown",
   "id": "e82cc304-3b60-4beb-ace0-994ec2bad1cc",
   "metadata": {},
   "source": [
    "## Exercise 1\n",
    "\n",
    "Given 2 arrays, create a function that let's a user know (Ture/False) whether these two arrays contain any common items.\n",
    "For example\n",
    "```python\n",
    "array1 = ['a', 'b', 'c', 'x']\n",
    "array2 = ['z', 'y', 'i']\n",
    "# Should return False\n",
    "array1 = ['a', 'b', 'c', 'x']\n",
    "array2 = ['z', 'y', 'x']\n",
    "# Should return True\n",
    "```"
   ]
  },
  {
   "cell_type": "code",
   "execution_count": 1,
   "id": "fe894fff-c986-4855-bf57-fa4d727bd890",
   "metadata": {},
   "outputs": [],
   "source": [
    "# 2 parameters - arrays - no size limit\n",
    "# return True or False\n",
    "\n",
    "# Nested loop -> O(n*m) Time complexity // bad solution\n",
    "# O(1) Space complexity\n",
    "def containsCommonItem(arr1, arr2):\n",
    "    for a1 in arr1:\n",
    "        for a2 in arr2:\n",
    "            if a1 == a2:\n",
    "                return True\n",
    "    return False"
   ]
  },
  {
   "cell_type": "code",
   "execution_count": 2,
   "id": "616ab0bd-69ff-4430-aa04-4c056f26b250",
   "metadata": {},
   "outputs": [
    {
     "data": {
      "text/plain": [
       "False"
      ]
     },
     "execution_count": 2,
     "metadata": {},
     "output_type": "execute_result"
    }
   ],
   "source": [
    "array1 = ['a', 'b', 'c', 'x']\n",
    "array2 = ['z', 'y', 'i']\n",
    "containsCommonItem(array1, array2)"
   ]
  },
  {
   "cell_type": "code",
   "execution_count": 3,
   "id": "638c9d60-cd62-476d-976d-6124b63b7db5",
   "metadata": {},
   "outputs": [
    {
     "data": {
      "text/plain": [
       "True"
      ]
     },
     "execution_count": 3,
     "metadata": {},
     "output_type": "execute_result"
    }
   ],
   "source": [
    "array1 = ['a', 'b', 'c', 'x']\n",
    "array2 = ['z', 'y', 'x']\n",
    "containsCommonItem(array1, array2)"
   ]
  },
  {
   "cell_type": "markdown",
   "id": "fe9d0820-bb2a-48a8-bd01-b870bf873ef7",
   "metadata": {
    "tags": []
   },
   "source": [
    "```python\n",
    "array1 = {\n",
    "'a': True,\n",
    "'b': True,\n",
    "'c': True,\n",
    "'x': True\n",
    "}\n",
    "array2[index] == array1.values()\n",
    "```"
   ]
  },
  {
   "cell_type": "code",
   "execution_count": 5,
   "id": "67bf1ccf-2689-4884-9175-a73403fd90a4",
   "metadata": {},
   "outputs": [],
   "source": [
    "from typing import List"
   ]
  },
  {
   "cell_type": "code",
   "execution_count": 11,
   "id": "dc315b72-4ea2-4eaa-aaee-50508c9500c7",
   "metadata": {},
   "outputs": [],
   "source": [
    "array1 = ['a', 'b', 'c', 'x']\n",
    "array2 = ['z', 'y', 'i']\n",
    "\n",
    "def containsCommonItem2(arr1, arr2):\n",
    "    # loop through first array and create object where properties == items in the array\n",
    "    maps = {}\n",
    "    for i in range(len(arr1)):\n",
    "        if arr1[i] not in maps:\n",
    "            maps[arr1[i]] = True\n",
    "            \n",
    "    # loop through second array and check if itme in second array exists on created object.    \n",
    "    for i in range(len(arr2)):\n",
    "        if arr2[i] in maps:\n",
    "            return True\n",
    "        \n",
    "    return False\n",
    "# O(n + m) Time complexity\n",
    "# O(n) Space complexity\n",
    "\n",
    "def containsCommonItem3(users:List, items:List):\n",
    "    for a in users:\n",
    "        if a in items:\n",
    "            return True\n",
    "    return False\n",
    "# O(n + m) Time complexity\n",
    "# O(1) Space complexity"
   ]
  },
  {
   "cell_type": "code",
   "execution_count": 7,
   "id": "c94c07ec-ab25-467e-993f-0e7150485f43",
   "metadata": {},
   "outputs": [
    {
     "data": {
      "text/plain": [
       "False"
      ]
     },
     "execution_count": 7,
     "metadata": {},
     "output_type": "execute_result"
    }
   ],
   "source": [
    "array1 = ['a', 'b', 'c', 'x']\n",
    "array2 = ['z', 'y', 'i']\n",
    "containsCommonItem2(array1, array2)"
   ]
  },
  {
   "cell_type": "code",
   "execution_count": 8,
   "id": "5f12366b-4030-45c2-ad88-c0203d00cf24",
   "metadata": {},
   "outputs": [
    {
     "data": {
      "text/plain": [
       "True"
      ]
     },
     "execution_count": 8,
     "metadata": {},
     "output_type": "execute_result"
    }
   ],
   "source": [
    "array1 = ['a', 'b', 'c', 'x']\n",
    "array2 = ['z', 'y', 'x']\n",
    "containsCommonItem2(array1, array2)"
   ]
  },
  {
   "cell_type": "code",
   "execution_count": 9,
   "id": "872d59ae-0cf0-43b1-8580-6c36270f37df",
   "metadata": {},
   "outputs": [
    {
     "data": {
      "text/plain": [
       "False"
      ]
     },
     "execution_count": 9,
     "metadata": {},
     "output_type": "execute_result"
    }
   ],
   "source": [
    "array1 = ['a', 'b', 'c', 'x']\n",
    "array2 = ['z', 'y', 'i']\n",
    "containsCommonItem3(array1, array2)"
   ]
  },
  {
   "cell_type": "code",
   "execution_count": 10,
   "id": "e2e73c8a-3193-4076-bb81-bdb15b377241",
   "metadata": {},
   "outputs": [
    {
     "data": {
      "text/plain": [
       "True"
      ]
     },
     "execution_count": 10,
     "metadata": {},
     "output_type": "execute_result"
    }
   ],
   "source": [
    "array1 = ['a', 'b', 'c', 'x']\n",
    "array2 = ['z', 'y', 'x']\n",
    "containsCommonItem3(array1, array2)"
   ]
  },
  {
   "cell_type": "code",
   "execution_count": null,
   "id": "580f7cd5-e9cc-4024-bdcc-c585c0e14fd8",
   "metadata": {},
   "outputs": [],
   "source": []
  }
 ],
 "metadata": {
  "kernelspec": {
   "display_name": "AIML",
   "language": "python",
   "name": "aiml"
  },
  "language_info": {
   "codemirror_mode": {
    "name": "ipython",
    "version": 3
   },
   "file_extension": ".py",
   "mimetype": "text/x-python",
   "name": "python",
   "nbconvert_exporter": "python",
   "pygments_lexer": "ipython3",
   "version": "3.8.12"
  }
 },
 "nbformat": 4,
 "nbformat_minor": 5
}
