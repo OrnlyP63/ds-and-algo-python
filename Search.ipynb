{
 "cells": [
  {
   "cell_type": "markdown",
   "id": "1dabb513-9560-4eb8-9266-bbc3bee882bc",
   "metadata": {},
   "source": [
    "# Searching / Traversal"
   ]
  },
  {
   "cell_type": "markdown",
   "id": "72ea845a-2244-4b34-b8ba-397bd3ed0ef9",
   "metadata": {},
   "source": [
    "## Linear search\n",
    "\n",
    "- Time complexity $O(n)$"
   ]
  },
  {
   "cell_type": "code",
   "execution_count": 3,
   "id": "99fd4132-8924-49e5-9a70-4c2608a08311",
   "metadata": {},
   "outputs": [],
   "source": [
    "beatsts = ['Centaur', 'Godzilla', 'Mosura', 'Minotaur', 'Hydra', 'Nessie']"
   ]
  },
  {
   "cell_type": "code",
   "execution_count": 5,
   "id": "233d49eb-3dba-4f18-8017-c619e4ecc15b",
   "metadata": {},
   "outputs": [
    {
     "data": {
      "text/plain": [
       "1"
      ]
     },
     "execution_count": 5,
     "metadata": {},
     "output_type": "execute_result"
    }
   ],
   "source": [
    "beatsts.index('Godzilla')"
   ]
  },
  {
   "cell_type": "code",
   "execution_count": 6,
   "id": "56049e81-f00d-4a4b-ad73-ab2aa062bcf7",
   "metadata": {},
   "outputs": [],
   "source": [
    "def linear_search(array, item):\n",
    "    for i in range(len(array)):\n",
    "        if array[i] == item:\n",
    "            return i"
   ]
  },
  {
   "cell_type": "code",
   "execution_count": 9,
   "id": "4cfb0629-42d0-4aea-816b-74681ee9e41f",
   "metadata": {},
   "outputs": [
    {
     "data": {
      "text/plain": [
       "1"
      ]
     },
     "execution_count": 9,
     "metadata": {},
     "output_type": "execute_result"
    }
   ],
   "source": [
    "linear_search(beatsts, 'Godzilla')"
   ]
  },
  {
   "cell_type": "code",
   "execution_count": 10,
   "id": "e42315da-7706-4818-a1a5-6e002fe69c6b",
   "metadata": {},
   "outputs": [
    {
     "data": {
      "text/plain": [
       "True"
      ]
     },
     "execution_count": 10,
     "metadata": {},
     "output_type": "execute_result"
    }
   ],
   "source": [
    "'Godzilla' in beatsts"
   ]
  },
  {
   "cell_type": "markdown",
   "id": "c72c10ba-14ed-4ca0-b834-d46412c63405",
   "metadata": {},
   "source": [
    "## Binary Search\n",
    "\n",
    "- Breadth First Search\n",
    "    - Shortest Path, Closer Nodes\n",
    "    - More Memory\n",
    "    \n",
    "- Depth First Search\n",
    "    - Less Memory, Does Path Exist?\n",
    "    - Can Get Slow\n",
    "    \n",
    "```Python\n",
    "# If you know a solution is not far from the root of the tree:\n",
    "BFS\n",
    "\n",
    "# If the tree is very deep and solutions are rare, \n",
    "BFS (DFS will take long time. )\n",
    "\n",
    "# If the tree is very wide:\n",
    "DFS (BFS will need too much memory)\n",
    "\n",
    "# If solutions are frequent but located deep in the tree\n",
    "DFS\n",
    "\n",
    "# determining whether a path exists between two nodes\n",
    "DFS\n",
    "\n",
    "# Finding the shortest path\n",
    "BFS\n",
    "```"
   ]
  },
  {
   "cell_type": "code",
   "execution_count": 44,
   "id": "da9019ad-03a6-47ff-8141-719aa30a9c74",
   "metadata": {},
   "outputs": [],
   "source": [
    "class BinaryTreeNode:\n",
    "    def __init__(self, value):\n",
    "        self.value = value\n",
    "        self.left = None\n",
    "        self.right = None\n",
    "\n",
    "class BinarySearchTree:\n",
    "    def __init__(self):\n",
    "        self.root = None\n",
    "        \n",
    "    def insert(self, value):\n",
    "        new_node = BinaryTreeNode(value)\n",
    "        if self.root is None:\n",
    "            self.root = new_node\n",
    "        else:\n",
    "            current_node = self.root\n",
    "            while True:\n",
    "                if value < current_node.value:\n",
    "                    # Lefe\n",
    "                    if current_node.left is None:\n",
    "                        current_node.left = new_node\n",
    "                        break\n",
    "                    \n",
    "                    current_node = current_node.left\n",
    "                else:\n",
    "                    # Right\n",
    "                    if current_node.right is None:\n",
    "                        current_node.right = new_node\n",
    "                        break\n",
    "                    current_node = current_node.right\n",
    "                    \n",
    "    def lookup(self,value):\n",
    "        if self.root is None:\n",
    "            return BinaryTreeNode(None)\n",
    "        current_node = self.root\n",
    "        \n",
    "        while current_node is not None:\n",
    "            \n",
    "            if value < current_node.value:\n",
    "                current_node = current_node.left\n",
    "                \n",
    "            elif value > current_node.value:\n",
    "                current_node = current_node.right\n",
    "                \n",
    "            elif value == current_node.value:\n",
    "                return current_node\n",
    "            \n",
    "        return BinaryTreeNode(None)\n",
    "    \n",
    "    \n",
    "    def breadth_first_search(self):\n",
    "        current_node = self.root\n",
    "        array = []\n",
    "        queue = []\n",
    "        queue.append(current_node)\n",
    "        \n",
    "        while len(queue) > 0:\n",
    "            current_node = queue.pop(0)\n",
    "            array.append(current_node.value)\n",
    "            \n",
    "            if current_node.left is not None:\n",
    "                queue.append(current_node.left)\n",
    "            if current_node.right is not None:\n",
    "                queue.append(current_node.right)\n",
    "                \n",
    "        return array\n",
    "    \n",
    "    def breadth_first_search_rc(self,queue, array):\n",
    "        if not len(queue):\n",
    "            return array\n",
    "        \n",
    "        current_node = queue.pop(0)\n",
    "        array.append(current_node.value)\n",
    "        \n",
    "        if current_node.left is not None:\n",
    "            queue.append(current_node.left)\n",
    "        if current_node.right is not None:\n",
    "            queue.append(current_node.right)\n",
    "            \n",
    "        return self.breadth_first_search_rc(queue, array)"
   ]
  },
  {
   "cell_type": "code",
   "execution_count": 45,
   "id": "200c3fbd-bc25-41e8-aa36-da9a4f160f53",
   "metadata": {},
   "outputs": [],
   "source": [
    "tree = BinarySearchTree();\n",
    "tree.insert(9)\n",
    "tree.insert(4)\n",
    "tree.insert(6)\n",
    "tree.insert(20)\n",
    "tree.insert(170)\n",
    "tree.insert(15)\n",
    "tree.insert(1)"
   ]
  },
  {
   "cell_type": "code",
   "execution_count": 46,
   "id": "87927959-1fa1-4844-b18c-a593b9de2fd6",
   "metadata": {},
   "outputs": [
    {
     "data": {
      "text/plain": [
       "[9, 4, 20, 1, 6, 15, 170]"
      ]
     },
     "execution_count": 46,
     "metadata": {},
     "output_type": "execute_result"
    }
   ],
   "source": [
    "tree.breadth_first_search()"
   ]
  },
  {
   "cell_type": "code",
   "execution_count": 47,
   "id": "094f3642-1b48-4b7f-98a7-1be9e56d61ed",
   "metadata": {},
   "outputs": [
    {
     "data": {
      "text/plain": [
       "[9, 4, 20, 1, 6, 15, 170]"
      ]
     },
     "execution_count": 47,
     "metadata": {},
     "output_type": "execute_result"
    }
   ],
   "source": [
    "tree.breadth_first_search_rc([tree.root], [])"
   ]
  },
  {
   "cell_type": "code",
   "execution_count": null,
   "id": "6278ce83-a7d3-4054-9c63-9fadb1ab3aff",
   "metadata": {},
   "outputs": [],
   "source": []
  }
 ],
 "metadata": {
  "kernelspec": {
   "display_name": "AIML",
   "language": "python",
   "name": "aiml"
  },
  "language_info": {
   "codemirror_mode": {
    "name": "ipython",
    "version": 3
   },
   "file_extension": ".py",
   "mimetype": "text/x-python",
   "name": "python",
   "nbconvert_exporter": "python",
   "pygments_lexer": "ipython3",
   "version": "3.8.12"
  }
 },
 "nbformat": 4,
 "nbformat_minor": 5
}
