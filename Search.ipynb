{
 "cells": [
  {
   "cell_type": "markdown",
   "id": "1dabb513-9560-4eb8-9266-bbc3bee882bc",
   "metadata": {},
   "source": [
    "# Searching / Traversal"
   ]
  },
  {
   "cell_type": "markdown",
   "id": "72ea845a-2244-4b34-b8ba-397bd3ed0ef9",
   "metadata": {},
   "source": [
    "## Linear search\n",
    "\n",
    "- Time complexity $O(n)$"
   ]
  },
  {
   "cell_type": "code",
   "execution_count": 1,
   "id": "99fd4132-8924-49e5-9a70-4c2608a08311",
   "metadata": {},
   "outputs": [],
   "source": [
    "beatsts = ['Centaur', 'Godzilla', 'Mosura', 'Minotaur', 'Hydra', 'Nessie']"
   ]
  },
  {
   "cell_type": "code",
   "execution_count": 2,
   "id": "233d49eb-3dba-4f18-8017-c619e4ecc15b",
   "metadata": {},
   "outputs": [
    {
     "data": {
      "text/plain": [
       "1"
      ]
     },
     "execution_count": 2,
     "metadata": {},
     "output_type": "execute_result"
    }
   ],
   "source": [
    "beatsts.index('Godzilla')"
   ]
  },
  {
   "cell_type": "code",
   "execution_count": 3,
   "id": "56049e81-f00d-4a4b-ad73-ab2aa062bcf7",
   "metadata": {},
   "outputs": [],
   "source": [
    "def linear_search(array, item):\n",
    "    for i in range(len(array)):\n",
    "        if array[i] == item:\n",
    "            return i"
   ]
  },
  {
   "cell_type": "code",
   "execution_count": 4,
   "id": "4cfb0629-42d0-4aea-816b-74681ee9e41f",
   "metadata": {},
   "outputs": [
    {
     "data": {
      "text/plain": [
       "1"
      ]
     },
     "execution_count": 4,
     "metadata": {},
     "output_type": "execute_result"
    }
   ],
   "source": [
    "linear_search(beatsts, 'Godzilla')"
   ]
  },
  {
   "cell_type": "code",
   "execution_count": 5,
   "id": "e42315da-7706-4818-a1a5-6e002fe69c6b",
   "metadata": {},
   "outputs": [
    {
     "data": {
      "text/plain": [
       "True"
      ]
     },
     "execution_count": 5,
     "metadata": {},
     "output_type": "execute_result"
    }
   ],
   "source": [
    "'Godzilla' in beatsts"
   ]
  },
  {
   "cell_type": "markdown",
   "id": "c72c10ba-14ed-4ca0-b834-d46412c63405",
   "metadata": {},
   "source": [
    "## Binary Search\n",
    "\n",
    "- Breadth First Search\n",
    "    - Shortest Path, Closer Nodes\n",
    "    - More Memory\n",
    "    \n",
    "- Depth First Search\n",
    "    - Less Memory, \n",
    "    - Does Path Exist?\n",
    "    - Can Get Slow\n",
    "    \n",
    "```Python\n",
    "# If you know a solution is not far from the root of the tree:\n",
    "BFS\n",
    "\n",
    "# If the tree is very deep and solutions are rare, \n",
    "BFS (DFS will take long time. )\n",
    "\n",
    "# If the tree is very wide:\n",
    "DFS (BFS will need too much memory)\n",
    "\n",
    "# If solutions are frequent but located deep in the tree\n",
    "DFS\n",
    "\n",
    "# determining whether a path exists between two nodes\n",
    "DFS\n",
    "\n",
    "# Finding the shortest path\n",
    "BFS\n",
    "```"
   ]
  },
  {
   "cell_type": "code",
   "execution_count": 6,
   "id": "da9019ad-03a6-47ff-8141-719aa30a9c74",
   "metadata": {},
   "outputs": [],
   "source": [
    "class BinaryTreeNode:\n",
    "    def __init__(self, value):\n",
    "        self.value = value\n",
    "        self.left = None\n",
    "        self.right = None\n",
    "\n",
    "class BinarySearchTree:\n",
    "    def __init__(self):\n",
    "        self.root = None\n",
    "        \n",
    "    def insert(self, value):\n",
    "        new_node = BinaryTreeNode(value)\n",
    "        if self.root is None:\n",
    "            self.root = new_node\n",
    "        else:\n",
    "            current_node = self.root\n",
    "            while True:\n",
    "                if value < current_node.value:\n",
    "                    # Lefe\n",
    "                    if current_node.left is None:\n",
    "                        current_node.left = new_node\n",
    "                        break\n",
    "                    \n",
    "                    current_node = current_node.left\n",
    "                else:\n",
    "                    # Right\n",
    "                    if current_node.right is None:\n",
    "                        current_node.right = new_node\n",
    "                        break\n",
    "                    current_node = current_node.right\n",
    "                    \n",
    "    def lookup(self,value):\n",
    "        if self.root is None:\n",
    "            return BinaryTreeNode(None)\n",
    "        current_node = self.root\n",
    "        \n",
    "        while current_node is not None:\n",
    "            \n",
    "            if value < current_node.value:\n",
    "                current_node = current_node.left\n",
    "                \n",
    "            elif value > current_node.value:\n",
    "                current_node = current_node.right\n",
    "                \n",
    "            elif value == current_node.value:\n",
    "                return current_node\n",
    "            \n",
    "        return BinaryTreeNode(None)\n",
    "    \n",
    "    \n",
    "    def breadth_first_search(self):\n",
    "        current_node = self.root\n",
    "        array = []\n",
    "        queue = []\n",
    "        queue.append(current_node)\n",
    "        \n",
    "        while len(queue) > 0:\n",
    "            current_node = queue.pop(0)\n",
    "            array.append(current_node.value)\n",
    "            \n",
    "            if current_node.left is not None:\n",
    "                queue.append(current_node.left)\n",
    "            if current_node.right is not None:\n",
    "                queue.append(current_node.right)\n",
    "                \n",
    "        return array\n",
    "    \n",
    "    def breadth_first_search_rc(self,queue, array):\n",
    "        if not len(queue):\n",
    "            return array\n",
    "        \n",
    "        current_node = queue.pop(0)\n",
    "        array.append(current_node.value)\n",
    "        \n",
    "        if current_node.left is not None:\n",
    "            queue.append(current_node.left)\n",
    "        if current_node.right is not None:\n",
    "            queue.append(current_node.right)\n",
    "            \n",
    "        return self.breadth_first_search_rc(queue, array)\n",
    "    \n",
    "    def in_order_depth_first_serch(self):\n",
    "        return traverse_in_order(self.root, [])\n",
    "    \n",
    "    def post_order_depth_first_serch(self):\n",
    "        return traverse_post_order(self.root, [])\n",
    "    \n",
    "    def pre_order_depth_first_serch(self):\n",
    "        return traverse_pre_order(self.root, [])\n",
    "    \n",
    "def traverse_in_order(node, array):\n",
    "    if node.left is not None:\n",
    "        traverse_in_order(node.left, array)\n",
    "        \n",
    "    array.append(node.value)\n",
    "    \n",
    "    if node.right is not None:\n",
    "        traverse_in_order(node.right, array)\n",
    "        \n",
    "    return array\n",
    "\n",
    "def traverse_pre_order(node, array):\n",
    "    array.append(node.value)\n",
    "    \n",
    "    if node.left is not None:\n",
    "        traverse_pre_order(node.left, array)\n",
    "    \n",
    "    if node.right is not None:\n",
    "        traverse_pre_order(node.right, array)\n",
    "        \n",
    "    return array\n",
    "\n",
    "def traverse_post_order(node, array):\n",
    "    \n",
    "    if node.left is not None:\n",
    "        traverse_post_order(node.left, array)\n",
    "    \n",
    "    if node.right is not None:\n",
    "        traverse_post_order(node.right, array)\n",
    "        \n",
    "    array.append(node.value)\n",
    "    return array"
   ]
  },
  {
   "cell_type": "markdown",
   "id": "d62814cd-5953-4ace-b4e7-5e3ad64c4a21",
   "metadata": {},
   "source": [
    "Breadth First Search"
   ]
  },
  {
   "cell_type": "code",
   "execution_count": 7,
   "id": "200c3fbd-bc25-41e8-aa36-da9a4f160f53",
   "metadata": {},
   "outputs": [],
   "source": [
    "tree = BinarySearchTree();\n",
    "tree.insert(9)\n",
    "tree.insert(4)\n",
    "tree.insert(6)\n",
    "tree.insert(20)\n",
    "tree.insert(170)\n",
    "tree.insert(15)\n",
    "tree.insert(1)"
   ]
  },
  {
   "cell_type": "code",
   "execution_count": 8,
   "id": "87927959-1fa1-4844-b18c-a593b9de2fd6",
   "metadata": {},
   "outputs": [
    {
     "data": {
      "text/plain": [
       "[9, 4, 20, 1, 6, 15, 170]"
      ]
     },
     "execution_count": 8,
     "metadata": {},
     "output_type": "execute_result"
    }
   ],
   "source": [
    "tree.breadth_first_search()"
   ]
  },
  {
   "cell_type": "code",
   "execution_count": 9,
   "id": "094f3642-1b48-4b7f-98a7-1be9e56d61ed",
   "metadata": {},
   "outputs": [
    {
     "data": {
      "text/plain": [
       "[9, 4, 20, 1, 6, 15, 170]"
      ]
     },
     "execution_count": 9,
     "metadata": {},
     "output_type": "execute_result"
    }
   ],
   "source": [
    "tree.breadth_first_search_rc([tree.root], [])"
   ]
  },
  {
   "cell_type": "markdown",
   "id": "2a616795-dd4f-4ebe-b5a5-0d0cb5932afb",
   "metadata": {},
   "source": [
    "Depth First Search\n",
    "\n",
    "```python\n",
    "        9\n",
    "    4       20\n",
    "1     6   15    170\n",
    "```\n",
    "\n",
    "\n",
    "- in_order - `[1, 4, 6, 9, 15, 20, 170]`\n",
    "- pre_order - `[9, 4, 1, 6, 20, 15, 170]`\n",
    "- post_order - `[1, 6, 4, 15, 170, 20, 9]`\n"
   ]
  },
  {
   "cell_type": "code",
   "execution_count": 10,
   "id": "4cdb5e74-d798-46bf-a51a-fa3468d01cbe",
   "metadata": {},
   "outputs": [
    {
     "data": {
      "text/plain": [
       "[1, 4, 6, 9, 15, 20, 170]"
      ]
     },
     "execution_count": 10,
     "metadata": {},
     "output_type": "execute_result"
    }
   ],
   "source": [
    "tree.in_order_depth_first_serch()"
   ]
  },
  {
   "cell_type": "code",
   "execution_count": 11,
   "id": "fe71b3e8-92af-447d-9b84-9a27eff771d4",
   "metadata": {},
   "outputs": [
    {
     "data": {
      "text/plain": [
       "[9, 4, 1, 6, 20, 15, 170]"
      ]
     },
     "execution_count": 11,
     "metadata": {},
     "output_type": "execute_result"
    }
   ],
   "source": [
    "tree.pre_order_depth_first_serch()"
   ]
  },
  {
   "cell_type": "code",
   "execution_count": 12,
   "id": "06d09547-2d35-4136-b8c0-7cf69a1afd62",
   "metadata": {},
   "outputs": [
    {
     "data": {
      "text/plain": [
       "[1, 6, 4, 15, 170, 20, 9]"
      ]
     },
     "execution_count": 12,
     "metadata": {},
     "output_type": "execute_result"
    }
   ],
   "source": [
    "tree.post_order_depth_first_serch()"
   ]
  },
  {
   "cell_type": "markdown",
   "id": "16e79dbc-c27a-4e29-a354-7a306ea7ef88",
   "metadata": {},
   "source": [
    "## Graph Traversals\n",
    "\n",
    "- Breadth First Search\n",
    "    - Shortest Path, Closer Nodes\n",
    "    - More Memory\n",
    "    \n",
    "- Depth First Search\n",
    "    - Less Memory, \n",
    "    - Does Path Exist?\n",
    "    - Can Get Slow"
   ]
  },
  {
   "cell_type": "code",
   "execution_count": null,
   "id": "75e36d65-179e-435b-85e6-5266a708fc3c",
   "metadata": {},
   "outputs": [],
   "source": []
  }
 ],
 "metadata": {
  "kernelspec": {
   "display_name": "AIML",
   "language": "python",
   "name": "aiml"
  },
  "language_info": {
   "codemirror_mode": {
    "name": "ipython",
    "version": 3
   },
   "file_extension": ".py",
   "mimetype": "text/x-python",
   "name": "python",
   "nbconvert_exporter": "python",
   "pygments_lexer": "ipython3",
   "version": "3.8.12"
  }
 },
 "nbformat": 4,
 "nbformat_minor": 5
}
